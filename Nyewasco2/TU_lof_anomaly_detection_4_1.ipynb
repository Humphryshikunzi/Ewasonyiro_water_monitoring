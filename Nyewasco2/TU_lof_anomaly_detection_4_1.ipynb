{
 "cells": [
  {
   "cell_type": "markdown",
   "metadata": {},
   "source": [
    "# TURBIDITY DATA ANALYSIS. "
   ]
  },
  {
   "cell_type": "markdown",
   "metadata": {},
   "source": [
    "### Importing the necessary libraries to use"
   ]
  },
  {
   "cell_type": "code",
   "execution_count": 1,
   "metadata": {},
   "outputs": [],
   "source": [
    "import pandas as pd\n",
    "import numpy as np\n",
    "import math\n",
    "import time\n",
    "import matplotlib.pyplot as plt\n",
    "from sklearn.base import TransformerMixin\n",
    "from sklearn.pipeline import Pipeline\n",
    "from sklearn.pipeline import make_pipeline\n",
    "from sklearn.preprocessing import StandardScaler\n",
    "from sklearn.preprocessing import MinMaxScaler\n",
    "from sklearn.neighbors import LocalOutlierFactor\n",
    "import matplotlib.pylab as pylab"
   ]
  },
  {
   "cell_type": "markdown",
   "metadata": {},
   "source": [
    "### We create two functions, set_col_index and sort_time_series to set column index and sort data based on date of data time series respectively"
   ]
  },
  {
   "cell_type": "code",
   "execution_count": 2,
   "metadata": {},
   "outputs": [],
   "source": [
    "# set index column\n",
    "class set_col_as_index(TransformerMixin):\n",
    "    def __init__(self, col):\n",
    "        self.col = col\n",
    "    \n",
    "    def transform (self, X, **transform_params):\n",
    "        X.index = X.loc[:, self.col].apply(lambda x: pd.to_datetime(x))\n",
    "        return X\n",
    "    \n",
    "    def fit(self, X, y=None, **fit_params):\n",
    "        return self"
   ]
  },
  {
   "cell_type": "markdown",
   "metadata": {},
   "source": [
    "### Create index and transform the 'TimeStamp' column"
   ]
  },
  {
   "cell_type": "code",
   "execution_count": 3,
   "metadata": {},
   "outputs": [],
   "source": [
    "#sort data based on the index\n",
    "class sort_time_series(TransformerMixin):\n",
    "    def transform(self, X, **transform_params):\n",
    "        X = X.sort_index( )\n",
    "        return X\n",
    "    \n",
    "    def fit(self, X, y=None, **fit_params):\n",
    "        return self\n",
    "    \n"
   ]
  },
  {
   "cell_type": "markdown",
   "metadata": {},
   "source": [
    "### Function to Process dataset"
   ]
  },
  {
   "cell_type": "code",
   "execution_count": 4,
   "metadata": {},
   "outputs": [],
   "source": [
    "#Create index and transform the 'TimeStamp' column\n",
    "def process_data(x):\n",
    "    process_pipeline = make_pipeline(set_col_as_index('time'), sort_time_series())\n",
    "    x = process_pipeline.fit_transform(x)\n",
    "    del x['time']\n",
    "    return x"
   ]
  },
  {
   "cell_type": "markdown",
   "metadata": {},
   "source": [
    "### Function to load data from csv file, process and return the data"
   ]
  },
  {
   "cell_type": "code",
   "execution_count": 5,
   "metadata": {},
   "outputs": [
    {
     "name": "stdout",
     "output_type": "stream",
     "text": [
      "Number of Data samples  2658\n"
     ]
    },
    {
     "data": {
      "text/html": [
       "<div>\n",
       "<style scoped>\n",
       "    .dataframe tbody tr th:only-of-type {\n",
       "        vertical-align: middle;\n",
       "    }\n",
       "\n",
       "    .dataframe tbody tr th {\n",
       "        vertical-align: top;\n",
       "    }\n",
       "\n",
       "    .dataframe thead th {\n",
       "        text-align: right;\n",
       "    }\n",
       "</style>\n",
       "<table border=\"1\" class=\"dataframe\">\n",
       "  <thead>\n",
       "    <tr style=\"text-align: right;\">\n",
       "      <th></th>\n",
       "      <th>time</th>\n",
       "      <th>turbidity</th>\n",
       "      <th>pH</th>\n",
       "    </tr>\n",
       "  </thead>\n",
       "  <tbody>\n",
       "    <tr>\n",
       "      <th>0</th>\n",
       "      <td>2020-11-04 11:00:31.822439+00:00</td>\n",
       "      <td>21.063435</td>\n",
       "      <td>7.34</td>\n",
       "    </tr>\n",
       "    <tr>\n",
       "      <th>1</th>\n",
       "      <td>2020-11-04 11:01:22.124333+00:00</td>\n",
       "      <td>20.868153</td>\n",
       "      <td>7.33</td>\n",
       "    </tr>\n",
       "    <tr>\n",
       "      <th>2</th>\n",
       "      <td>2020-11-04 11:01:51.663062+00:00</td>\n",
       "      <td>20.584553</td>\n",
       "      <td>7.32</td>\n",
       "    </tr>\n",
       "    <tr>\n",
       "      <th>3</th>\n",
       "      <td>2020-11-04 11:02:29.373718+00:00</td>\n",
       "      <td>21.185328</td>\n",
       "      <td>7.33</td>\n",
       "    </tr>\n",
       "    <tr>\n",
       "      <th>4</th>\n",
       "      <td>2020-11-04 11:03:45.517010+00:00</td>\n",
       "      <td>21.063435</td>\n",
       "      <td>7.32</td>\n",
       "    </tr>\n",
       "  </tbody>\n",
       "</table>\n",
       "</div>"
      ],
      "text/plain": [
       "                               time  turbidity    pH\n",
       "0  2020-11-04 11:00:31.822439+00:00  21.063435  7.34\n",
       "1  2020-11-04 11:01:22.124333+00:00  20.868153  7.33\n",
       "2  2020-11-04 11:01:51.663062+00:00  20.584553  7.32\n",
       "3  2020-11-04 11:02:29.373718+00:00  21.185328  7.33\n",
       "4  2020-11-04 11:03:45.517010+00:00  21.063435  7.32"
      ]
     },
     "execution_count": 5,
     "metadata": {},
     "output_type": "execute_result"
    }
   ],
   "source": [
    "# get test data for water quality monitoring from this directory\n",
    "def get_temp_data(data_path):\n",
    "    return pd.read_csv(data_path)\n",
    "data_path = './Data_Raw_Water.csv'\n",
    "df = get_temp_data(data_path)\n",
    "print('Number of Data samples ', len(df))\n",
    "df.head()"
   ]
  },
  {
   "cell_type": "markdown",
   "metadata": {},
   "source": [
    "### Display the general information on the dataset loaded"
   ]
  },
  {
   "cell_type": "code",
   "execution_count": 6,
   "metadata": {},
   "outputs": [
    {
     "name": "stdout",
     "output_type": "stream",
     "text": [
      "Data Range \n",
      "\n",
      "Start Date 0    2020-11-04 11:00:31.822439+00:00\n",
      "Name: time, dtype: object \n",
      "\n",
      "End Date 2657    2021-01-04 09:54:25.214766+00:00\n",
      "Name: time, dtype: object \n",
      " \n",
      "Num_values : 2658 \n"
     ]
    }
   ],
   "source": [
    "def display_info(df):\n",
    "    print(\"Data Range \\n\")\n",
    "    print(\"Start Date %s \\n\"%(df.head(1)['time']))\n",
    "    print(\"End Date %s \\n \"%(df.tail (1)['time']))\n",
    "    print(\"Num_values : %s \"%(df.shape[0]))  \n",
    "display_info(df)"
   ]
  },
  {
   "cell_type": "markdown",
   "metadata": {},
   "source": [
    "### Plot the Original Dataset"
   ]
  },
  {
   "cell_type": "code",
   "execution_count": 7,
   "metadata": {},
   "outputs": [
    {
     "data": {
      "image/png": "[encoded data removed]",
      "text/plain": [
       "<Figure size 1080x504 with 1 Axes>"
      ]
     },
     "metadata": {
      "needs_background": "light"
     },
     "output_type": "display_data"
    }
   ],
   "source": [
    "def plot_original_data(df, title):\n",
    "    f1 = plt.figure(figsize =(15, 7))\n",
    "    df['turbidity'].plot( )\n",
    "    plt.xlabel(\"Time (Date)\")\n",
    "    plt.ylabel(\"Turbidity (NTU)\")\n",
    "    plt.title(title)\n",
    "    plt.show( )\n",
    "plot_original_data(df, \"A graph of Turbidity against Time for the sensor-node at NYEWASCO-Raw Water Quality Section \\n\")"
   ]
  },
  {
   "cell_type": "markdown",
   "metadata": {},
   "source": [
    "### Prepare traning dataset"
   ]
  },
  {
   "cell_type": "code",
   "execution_count": 8,
   "metadata": {},
   "outputs": [
    {
     "name": "stdout",
     "output_type": "stream",
     "text": [
      "Items :  2658 \n",
      "\n",
      " Head\n"
     ]
    },
    {
     "data": {
      "text/plain": [
       "array([[21.06343492],\n",
       "       [20.8681534 ],\n",
       "       [20.58455327],\n",
       "       [21.18532803],\n",
       "       [21.06343492]])"
      ]
     },
     "execution_count": 8,
     "metadata": {},
     "output_type": "execute_result"
    }
   ],
   "source": [
    "def prepare_traning_dataset(df):\n",
    "    \n",
    "    #lets get value of dataset\n",
    "    X = df['turbidity'].values \n",
    "    \n",
    "    # reshape the data to only one column\n",
    "    X = X.reshape(-1, 1)\n",
    "    return X\n",
    "\n",
    "training_data = prepare_traning_dataset(df)\n",
    "\n",
    "print('Items : ', len(training_data), '\\n\\n Head')\n",
    "training_data[:5]"
   ]
  },
  {
   "cell_type": "markdown",
   "metadata": {},
   "source": [
    "### Preprocess training dataset "
   ]
  },
  {
   "cell_type": "code",
   "execution_count": 9,
   "metadata": {},
   "outputs": [
    {
     "data": {
      "text/html": [
       "<div>\n",
       "<style scoped>\n",
       "    .dataframe tbody tr th:only-of-type {\n",
       "        vertical-align: middle;\n",
       "    }\n",
       "\n",
       "    .dataframe tbody tr th {\n",
       "        vertical-align: top;\n",
       "    }\n",
       "\n",
       "    .dataframe thead th {\n",
       "        text-align: right;\n",
       "    }\n",
       "</style>\n",
       "<table border=\"1\" class=\"dataframe\">\n",
       "  <thead>\n",
       "    <tr style=\"text-align: right;\">\n",
       "      <th></th>\n",
       "      <th>time</th>\n",
       "      <th>turbidity</th>\n",
       "      <th>pH</th>\n",
       "    </tr>\n",
       "    <tr>\n",
       "      <th>time</th>\n",
       "      <th></th>\n",
       "      <th></th>\n",
       "      <th></th>\n",
       "    </tr>\n",
       "  </thead>\n",
       "  <tbody>\n",
       "    <tr>\n",
       "      <th>2020-11-04 11:00:31.822439+00:00</th>\n",
       "      <td>2020-11-04 11:00:31.822439+00:00</td>\n",
       "      <td>21.063435</td>\n",
       "      <td>7.34</td>\n",
       "    </tr>\n",
       "    <tr>\n",
       "      <th>2020-11-04 11:01:22.124333+00:00</th>\n",
       "      <td>2020-11-04 11:01:22.124333+00:00</td>\n",
       "      <td>20.868153</td>\n",
       "      <td>7.33</td>\n",
       "    </tr>\n",
       "    <tr>\n",
       "      <th>2020-11-04 11:01:51.663062+00:00</th>\n",
       "      <td>2020-11-04 11:01:51.663062+00:00</td>\n",
       "      <td>20.584553</td>\n",
       "      <td>7.32</td>\n",
       "    </tr>\n",
       "    <tr>\n",
       "      <th>2020-11-04 11:02:29.373718+00:00</th>\n",
       "      <td>2020-11-04 11:02:29.373718+00:00</td>\n",
       "      <td>21.185328</td>\n",
       "      <td>7.33</td>\n",
       "    </tr>\n",
       "    <tr>\n",
       "      <th>2020-11-04 11:03:45.517010+00:00</th>\n",
       "      <td>2020-11-04 11:03:45.517010+00:00</td>\n",
       "      <td>21.063435</td>\n",
       "      <td>7.32</td>\n",
       "    </tr>\n",
       "  </tbody>\n",
       "</table>\n",
       "</div>"
      ],
      "text/plain": [
       "                                                              time  turbidity  \\\n",
       "time                                                                            \n",
       "2020-11-04 11:00:31.822439+00:00  2020-11-04 11:00:31.822439+00:00  21.063435   \n",
       "2020-11-04 11:01:22.124333+00:00  2020-11-04 11:01:22.124333+00:00  20.868153   \n",
       "2020-11-04 11:01:51.663062+00:00  2020-11-04 11:01:51.663062+00:00  20.584553   \n",
       "2020-11-04 11:02:29.373718+00:00  2020-11-04 11:02:29.373718+00:00  21.185328   \n",
       "2020-11-04 11:03:45.517010+00:00  2020-11-04 11:03:45.517010+00:00  21.063435   \n",
       "\n",
       "                                    pH  \n",
       "time                                    \n",
       "2020-11-04 11:00:31.822439+00:00  7.34  \n",
       "2020-11-04 11:01:22.124333+00:00  7.33  \n",
       "2020-11-04 11:01:51.663062+00:00  7.32  \n",
       "2020-11-04 11:02:29.373718+00:00  7.33  \n",
       "2020-11-04 11:03:45.517010+00:00  7.32  "
      ]
     },
     "execution_count": 9,
     "metadata": {},
     "output_type": "execute_result"
    }
   ],
   "source": [
    "# lets make the dates as index\n",
    "df_turbidity = process_data(df)\n",
    "df.head()"
   ]
  },
  {
   "cell_type": "code",
   "execution_count": 10,
   "metadata": {},
   "outputs": [
    {
     "data": {
      "text/html": [
       "<div>\n",
       "<style scoped>\n",
       "    .dataframe tbody tr th:only-of-type {\n",
       "        vertical-align: middle;\n",
       "    }\n",
       "\n",
       "    .dataframe tbody tr th {\n",
       "        vertical-align: top;\n",
       "    }\n",
       "\n",
       "    .dataframe thead th {\n",
       "        text-align: right;\n",
       "    }\n",
       "</style>\n",
       "<table border=\"1\" class=\"dataframe\">\n",
       "  <thead>\n",
       "    <tr style=\"text-align: right;\">\n",
       "      <th></th>\n",
       "      <th>time</th>\n",
       "      <th>turbidity</th>\n",
       "      <th>pH</th>\n",
       "    </tr>\n",
       "    <tr>\n",
       "      <th>time</th>\n",
       "      <th></th>\n",
       "      <th></th>\n",
       "      <th></th>\n",
       "    </tr>\n",
       "  </thead>\n",
       "  <tbody>\n",
       "    <tr>\n",
       "      <th>2020-11-04 11:00:31.822439+00:00</th>\n",
       "      <td>2020-11-04 11:00:31.822439+00:00</td>\n",
       "      <td>21.063435</td>\n",
       "      <td>7.34</td>\n",
       "    </tr>\n",
       "    <tr>\n",
       "      <th>2020-11-04 11:01:22.124333+00:00</th>\n",
       "      <td>2020-11-04 11:01:22.124333+00:00</td>\n",
       "      <td>20.868153</td>\n",
       "      <td>7.33</td>\n",
       "    </tr>\n",
       "    <tr>\n",
       "      <th>2020-11-04 11:01:51.663062+00:00</th>\n",
       "      <td>2020-11-04 11:01:51.663062+00:00</td>\n",
       "      <td>20.584553</td>\n",
       "      <td>7.32</td>\n",
       "    </tr>\n",
       "    <tr>\n",
       "      <th>2020-11-04 11:02:29.373718+00:00</th>\n",
       "      <td>2020-11-04 11:02:29.373718+00:00</td>\n",
       "      <td>21.185328</td>\n",
       "      <td>7.33</td>\n",
       "    </tr>\n",
       "    <tr>\n",
       "      <th>2020-11-04 11:03:45.517010+00:00</th>\n",
       "      <td>2020-11-04 11:03:45.517010+00:00</td>\n",
       "      <td>21.063435</td>\n",
       "      <td>7.32</td>\n",
       "    </tr>\n",
       "  </tbody>\n",
       "</table>\n",
       "</div>"
      ],
      "text/plain": [
       "                                                              time  turbidity  \\\n",
       "time                                                                            \n",
       "2020-11-04 11:00:31.822439+00:00  2020-11-04 11:00:31.822439+00:00  21.063435   \n",
       "2020-11-04 11:01:22.124333+00:00  2020-11-04 11:01:22.124333+00:00  20.868153   \n",
       "2020-11-04 11:01:51.663062+00:00  2020-11-04 11:01:51.663062+00:00  20.584553   \n",
       "2020-11-04 11:02:29.373718+00:00  2020-11-04 11:02:29.373718+00:00  21.185328   \n",
       "2020-11-04 11:03:45.517010+00:00  2020-11-04 11:03:45.517010+00:00  21.063435   \n",
       "\n",
       "                                    pH  \n",
       "time                                    \n",
       "2020-11-04 11:00:31.822439+00:00  7.34  \n",
       "2020-11-04 11:01:22.124333+00:00  7.33  \n",
       "2020-11-04 11:01:51.663062+00:00  7.32  \n",
       "2020-11-04 11:02:29.373718+00:00  7.33  \n",
       "2020-11-04 11:03:45.517010+00:00  7.32  "
      ]
     },
     "execution_count": 10,
     "metadata": {},
     "output_type": "execute_result"
    }
   ],
   "source": [
    "df_turbidity = prepare_traning_dataset(df_turbidity)\n",
    "df.head()"
   ]
  },
  {
   "cell_type": "markdown",
   "metadata": {},
   "source": [
    "### Get prediction result for the turbidity"
   ]
  },
  {
   "cell_type": "code",
   "execution_count": 11,
   "metadata": {},
   "outputs": [
    {
     "name": "stdout",
     "output_type": "stream",
     "text": [
      "Wall time: 1.27 s\n"
     ]
    },
    {
     "data": {
      "text/html": [
       "<div>\n",
       "<style scoped>\n",
       "    .dataframe tbody tr th:only-of-type {\n",
       "        vertical-align: middle;\n",
       "    }\n",
       "\n",
       "    .dataframe tbody tr th {\n",
       "        vertical-align: top;\n",
       "    }\n",
       "\n",
       "    .dataframe thead th {\n",
       "        text-align: right;\n",
       "    }\n",
       "</style>\n",
       "<table border=\"1\" class=\"dataframe\">\n",
       "  <thead>\n",
       "    <tr style=\"text-align: right;\">\n",
       "      <th></th>\n",
       "      <th>turbidity</th>\n",
       "      <th>isinlier</th>\n",
       "    </tr>\n",
       "    <tr>\n",
       "      <th>time</th>\n",
       "      <th></th>\n",
       "      <th></th>\n",
       "    </tr>\n",
       "  </thead>\n",
       "  <tbody>\n",
       "    <tr>\n",
       "      <th>2020-11-05 21:03:38.902611+00:00</th>\n",
       "      <td>37.734662</td>\n",
       "      <td>-12.910311</td>\n",
       "    </tr>\n",
       "    <tr>\n",
       "      <th>2020-11-05 21:33:54.944352+00:00</th>\n",
       "      <td>37.975997</td>\n",
       "      <td>-13.046886</td>\n",
       "    </tr>\n",
       "    <tr>\n",
       "      <th>2020-11-05 22:34:27.035608+00:00</th>\n",
       "      <td>42.734662</td>\n",
       "      <td>-15.526551</td>\n",
       "    </tr>\n",
       "    <tr>\n",
       "      <th>2020-11-05 23:04:43.071267+00:00</th>\n",
       "      <td>47.734662</td>\n",
       "      <td>-17.736221</td>\n",
       "    </tr>\n",
       "    <tr>\n",
       "      <th>2020-11-05 23:34:59.139842+00:00</th>\n",
       "      <td>47.734662</td>\n",
       "      <td>-17.736221</td>\n",
       "    </tr>\n",
       "    <tr>\n",
       "      <th>...</th>\n",
       "      <td>...</td>\n",
       "      <td>...</td>\n",
       "    </tr>\n",
       "    <tr>\n",
       "      <th>2021-01-02 04:56:12.732646+00:00</th>\n",
       "      <td>51.856159</td>\n",
       "      <td>-19.988795</td>\n",
       "    </tr>\n",
       "    <tr>\n",
       "      <th>2021-01-02 05:26:28.761957+00:00</th>\n",
       "      <td>47.734662</td>\n",
       "      <td>-17.736221</td>\n",
       "    </tr>\n",
       "    <tr>\n",
       "      <th>2021-01-02 05:56:44.850041+00:00</th>\n",
       "      <td>43.613165</td>\n",
       "      <td>-15.793339</td>\n",
       "    </tr>\n",
       "    <tr>\n",
       "      <th>2021-01-02 06:57:16.963602+00:00</th>\n",
       "      <td>39.491669</td>\n",
       "      <td>-13.959920</td>\n",
       "    </tr>\n",
       "    <tr>\n",
       "      <th>2021-01-02 07:27:33.024504+00:00</th>\n",
       "      <td>35.370172</td>\n",
       "      <td>-11.525077</td>\n",
       "    </tr>\n",
       "  </tbody>\n",
       "</table>\n",
       "<p>240 rows × 2 columns</p>\n",
       "</div>"
      ],
      "text/plain": [
       "                                  turbidity   isinlier\n",
       "time                                                  \n",
       "2020-11-05 21:03:38.902611+00:00  37.734662 -12.910311\n",
       "2020-11-05 21:33:54.944352+00:00  37.975997 -13.046886\n",
       "2020-11-05 22:34:27.035608+00:00  42.734662 -15.526551\n",
       "2020-11-05 23:04:43.071267+00:00  47.734662 -17.736221\n",
       "2020-11-05 23:34:59.139842+00:00  47.734662 -17.736221\n",
       "...                                     ...        ...\n",
       "2021-01-02 04:56:12.732646+00:00  51.856159 -19.988795\n",
       "2021-01-02 05:26:28.761957+00:00  47.734662 -17.736221\n",
       "2021-01-02 05:56:44.850041+00:00  43.613165 -15.793339\n",
       "2021-01-02 06:57:16.963602+00:00  39.491669 -13.959920\n",
       "2021-01-02 07:27:33.024504+00:00  35.370172 -11.525077\n",
       "\n",
       "[240 rows x 2 columns]"
      ]
     },
     "execution_count": 11,
     "metadata": {},
     "output_type": "execute_result"
    }
   ],
   "source": [
    "%%time\n",
    "clf = LocalOutlierFactor(n_neighbors=800, metric='euclidean')\n",
    "\n",
    "def lof_prediction(clf, training_data_set, data_set):\n",
    "    \n",
    "    #fit clf with training data set\n",
    "    y_pred = clf.fit_predict(training_data_set)\n",
    "    \n",
    "    #Get the prediction score\n",
    "    y_pred = clf._decision_function(training_data_set)\n",
    "    \n",
    "    # combine training data and prediction result\n",
    "    data_set['isinlier'] = y_pred\n",
    "    \n",
    "    #datascores less than -10  are outliers, we get them \n",
    "    anomalies = data_set.loc[data_set['isinlier']< -10]\n",
    "    data_set\n",
    "    return anomalies\n",
    "\n",
    "df_turbidity_anomalies = lof_prediction(clf, df_turbidity, df)\n",
    "anomalies_only = df_turbidity_anomalies[['turbidity', 'isinlier']]\n",
    "anomalies_only"
   ]
  },
  {
   "cell_type": "markdown",
   "metadata": {},
   "source": [
    "### Plotting the result of LOF anomaly detection"
   ]
  },
  {
   "cell_type": "code",
   "execution_count": 12,
   "metadata": {},
   "outputs": [
    {
     "data": {
      "image/png": "[encoded data removed]",
      "text/plain": [
       "<Figure size 864x360 with 1 Axes>"
      ]
     },
     "metadata": {
      "needs_background": "light"
     },
     "output_type": "display_data"
    }
   ],
   "source": [
    "# lets plot the result of LOF anomaly detection\n",
    "def plot_lof_result(dataset, anomalies, title):\n",
    "    if 'isinlier' in dataset.columns:\n",
    "        del dataset['isinlier']\n",
    "        \n",
    "    if 'isinlier' in anomalies.columns:\n",
    "        del anomalies['isinlier']\n",
    "        \n",
    "    f2 = plt.figure(figsize =(12, 5))\n",
    "    plt.plot(dataset['turbidity'], color='green')\n",
    "    plt.plot(anomalies['turbidity'], \"r*\", markersize =10)\n",
    "    plt.xlabel(\"Time (Date)\",size=12)    \n",
    "    plt.xticks(rotation=45);\n",
    "    \n",
    "    plt.ylabel(\"Turbidity (NTU)\",size=12)\n",
    "    plt.title(title, size = 14)\n",
    "    plt.show()\n",
    "       \n",
    "plot_lof_result(df, df_turbidity_anomalies , \"A Plot of Turbidity Anomalies against Time in the NYEWASCO-Raw Water Quality Section \\n\")\n"
   ]
  }
 ],
 "metadata": {
  "kernelspec": {
   "display_name": "Python 3",
   "language": "python",
   "name": "python3"
  },
  "language_info": {
   "codemirror_mode": {
    "name": "ipython",
    "version": 3
   },
   "file_extension": ".py",
   "mimetype": "text/x-python",
   "name": "python",
   "nbconvert_exporter": "python",
   "pygments_lexer": "ipython3",
   "version": "3.7.9"
  }
 },
 "nbformat": 4,
 "nbformat_minor": 4
}

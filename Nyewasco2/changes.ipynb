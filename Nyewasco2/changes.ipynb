{
 "cells": [
  {
   "cell_type": "code",
   "execution_count": null,
   "metadata": {},
   "outputs": [],
   "source": [
    "#Notebook 1 pH_isolation_forest\n",
    "\n",
    "plt.savefig(\"pH_ISolation_forest_1.png\", bbox_inches = 'tight', dpi=550)\n",
    "plt.savefig(\"pH_ISolation_forest_2.png\", bbox_inches = 'tight', dpi=550)\n",
    "plt.savefig(\"pH_ISolation_forest_3.png\", bbox_inches = 'tight', dpi=550)\n",
    "\n",
    "\n",
    "#Notebook 2 pH_lof_anomaly_detection_4_1\n",
    "plt.savefig(\"pH_lof_anomaly_detection_1.png\", bbox_inches = 'tight', dpi=600)\n",
    "plt.savefig(\"pH_lof_anomaly_detection_2.png\", bbox_inches = 'tight', dpi=600)\n",
    "\n",
    "#pH_random_cut_fores\n",
    "plt.savefig(\"pH_random_cut_forest_1.png\", bbox_inches = 'tight', dpi=600)\n",
    "\n",
    "\n",
    "\n",
    "\n",
    "\n",
    "#TU_isolation_forest \n",
    "plt.savefig(\"TU_isolation_forest_1.png\", bbox_inches = 'tight', dpi=600)\n",
    "plt.savefig(\"TU_isolation_forest_2.png\", bbox_inches = 'tight', dpi=600)\n",
    "plt.savefig(\"TU_isolation_forest_3.png\", bbox_inches = 'tight', dpi=600)\n",
    "\n",
    "#TU_lof_anomaly_detection\n",
    "plt.savefig(\"TU_lof_anomaly_detection_1.png\", bbox_inches = 'tight', dpi=600)\n",
    "plt.savefig(\"TU_lof_anomaly_detection_2.png\", bbox_inches = 'tight', dpi=600)\n",
    "\n",
    "#TU_random_cut_forest\n",
    "plt.savefig(\"TU_lof_anomaly_detection_3.png\", bbox_inches = 'tight', dpi=600)"
   ]
  }
 ],
 "metadata": {
  "kernelspec": {
   "display_name": "Python 3",
   "language": "python",
   "name": "python3"
  },
  "language_info": {
   "codemirror_mode": {
    "name": "ipython",
    "version": 3
   },
   "file_extension": ".py",
   "mimetype": "text/x-python",
   "name": "python",
   "nbconvert_exporter": "python",
   "pygments_lexer": "ipython3",
   "version": "3.8.3"
  }
 },
 "nbformat": 4,
 "nbformat_minor": 4
}

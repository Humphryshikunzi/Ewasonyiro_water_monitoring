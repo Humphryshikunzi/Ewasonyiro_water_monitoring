{
 "cells": [
  {
   "cell_type": "markdown",
   "metadata": {},
   "source": [
    "### Import the necessary libraries to use in the repo"
   ]
  },
  {
   "cell_type": "code",
   "execution_count": 59,
   "metadata": {},
   "outputs": [],
   "source": [
    "import pandas as pd\n",
    "import numpy as np\n",
    "import math\n",
    "import time\n",
    "import matplotlib.pyplot as plt\n",
    "from sklearn.base import TransformerMixin\n",
    "from sklearn.pipeline import Pipeline\n",
    "from sklearn.pipeline import make_pipeline\n",
    "from sklearn.preprocessing import StandardScaler\n",
    "from sklearn.preprocessing import MinMaxScaler\n",
    "from sklearn.neighbors import LocalOutlierFactor\n",
    "import matplotlib.pylab as pylab\n",
    "import luminol\n",
    "from luminol import utils , anomaly_detector\n",
    "from luminol.anomaly_detector import AnomalyDetector\n",
    "import tad.anomaly_detect_ts as detts\n"
   ]
  },
  {
   "cell_type": "markdown",
   "metadata": {},
   "source": [
    "### Prepare DateTime Parsers "
   ]
  },
  {
   "cell_type": "code",
   "execution_count": 2,
   "metadata": {},
   "outputs": [],
   "source": [
    "def pd_parser(date):\n",
    "        return pd.datetime.strptime(date, '%Y−%m−%d %H:%M:%S')\n",
    "\n",
    "def pd_parser2(date):\n",
    "     return pd.datetime.strptime(date , '%Y/%m/%d %H:%M')\n",
    "\n",
    "def pd_parser3(date):\n",
    "     return pd.datetime.strptime(date, '%m/%d/%Y %H:%M')"
   ]
  },
  {
   "cell_type": "markdown",
   "metadata": {},
   "source": [
    "### We create two functions, set_col_index and sort_time_series to set column index and sort data based on date of data time series respectively\n"
   ]
  },
  {
   "cell_type": "code",
   "execution_count": 6,
   "metadata": {},
   "outputs": [],
   "source": [
    "# set index column\n",
    "class set_col_as_index(TransformerMixin):\n",
    "    def __init__(self, col):\n",
    "        self.col = col\n",
    "    \n",
    "    def transform (self, X, **transform_params):\n",
    "        X.index = X.loc[:, self.col].apply(lambda x: pd.to_datetime(x))\n",
    "        return X\n",
    "    \n",
    "    def fit(self, X, y=None, **fit_params):\n",
    "        return self"
   ]
  },
  {
   "cell_type": "code",
   "execution_count": 9,
   "metadata": {},
   "outputs": [],
   "source": [
    "#sort data based on the index\n",
    "class sort_time_series(TransformerMixin):\n",
    "    def transform(self, X, **transform_params):\n",
    "        X = X.sort_index( )\n",
    "        return X\n",
    "    \n",
    "    def fit(self, X, y=None, **fit_params):\n",
    "        return self\n",
    "    \n",
    "#Create index and transform the 'TimeStamp' column\n",
    "def process_data(x):\n",
    "    process_pipeline = make_pipeline(set_col_as_index('Timestamp'), sort_time_series())\n",
    "    x = process_pipeline.fit_transform(x)\n",
    "    del x['Timestamp ']\n",
    "    return x\n"
   ]
  },
  {
   "cell_type": "markdown",
   "metadata": {},
   "source": [
    "### Functions to load data from csv file, process and return the data"
   ]
  },
  {
   "cell_type": "code",
   "execution_count": 13,
   "metadata": {},
   "outputs": [
    {
     "data": {
      "text/html": [
       "<div>\n",
       "<style scoped>\n",
       "    .dataframe tbody tr th:only-of-type {\n",
       "        vertical-align: middle;\n",
       "    }\n",
       "\n",
       "    .dataframe tbody tr th {\n",
       "        vertical-align: top;\n",
       "    }\n",
       "\n",
       "    .dataframe thead th {\n",
       "        text-align: right;\n",
       "    }\n",
       "</style>\n",
       "<table border=\"1\" class=\"dataframe\">\n",
       "  <thead>\n",
       "    <tr style=\"text-align: right;\">\n",
       "      <th></th>\n",
       "      <th>Unnamed: 0</th>\n",
       "      <th>time</th>\n",
       "      <th>turbidity</th>\n",
       "      <th>pH</th>\n",
       "    </tr>\n",
       "  </thead>\n",
       "  <tbody>\n",
       "    <tr>\n",
       "      <th>0</th>\n",
       "      <td>0</td>\n",
       "      <td>2020-11-04 12:00:00.00+00:00</td>\n",
       "      <td>21</td>\n",
       "      <td>7.5</td>\n",
       "    </tr>\n",
       "    <tr>\n",
       "      <th>1</th>\n",
       "      <td>1</td>\n",
       "      <td>2020-11-04 14:00:00.00+00:00</td>\n",
       "      <td>20</td>\n",
       "      <td>7.5</td>\n",
       "    </tr>\n",
       "    <tr>\n",
       "      <th>2</th>\n",
       "      <td>2</td>\n",
       "      <td>2020-11-04 16:00:00.00+00:00</td>\n",
       "      <td>18</td>\n",
       "      <td>7.5</td>\n",
       "    </tr>\n",
       "    <tr>\n",
       "      <th>3</th>\n",
       "      <td>3</td>\n",
       "      <td>2020-11-04 18:00:00.00+00:00</td>\n",
       "      <td>18</td>\n",
       "      <td>7.5</td>\n",
       "    </tr>\n",
       "    <tr>\n",
       "      <th>4</th>\n",
       "      <td>4</td>\n",
       "      <td>2020-11-04 20:00:00.00+00:00</td>\n",
       "      <td>19</td>\n",
       "      <td>7.5</td>\n",
       "    </tr>\n",
       "    <tr>\n",
       "      <th>...</th>\n",
       "      <td>...</td>\n",
       "      <td>...</td>\n",
       "      <td>...</td>\n",
       "      <td>...</td>\n",
       "    </tr>\n",
       "    <tr>\n",
       "      <th>140</th>\n",
       "      <td>187</td>\n",
       "      <td>2020-11-16 04:00:00.00+00:00</td>\n",
       "      <td>16</td>\n",
       "      <td>7.5</td>\n",
       "    </tr>\n",
       "    <tr>\n",
       "      <th>141</th>\n",
       "      <td>188</td>\n",
       "      <td>2020-11-16 06:00:00.00+00:00</td>\n",
       "      <td>16</td>\n",
       "      <td>7.5</td>\n",
       "    </tr>\n",
       "    <tr>\n",
       "      <th>142</th>\n",
       "      <td>189</td>\n",
       "      <td>2020-11-16 08:00:00.00+00:00</td>\n",
       "      <td>17</td>\n",
       "      <td>7.5</td>\n",
       "    </tr>\n",
       "    <tr>\n",
       "      <th>143</th>\n",
       "      <td>190</td>\n",
       "      <td>2020-11-16 10:00:00.00+00:00</td>\n",
       "      <td>12</td>\n",
       "      <td>7.5</td>\n",
       "    </tr>\n",
       "    <tr>\n",
       "      <th>144</th>\n",
       "      <td>191</td>\n",
       "      <td>2020-11-16 12:00:00.00+00:00</td>\n",
       "      <td>14</td>\n",
       "      <td>7.5</td>\n",
       "    </tr>\n",
       "  </tbody>\n",
       "</table>\n",
       "<p>145 rows × 4 columns</p>\n",
       "</div>"
      ],
      "text/plain": [
       "     Unnamed: 0                          time  turbidity   pH\n",
       "0             0  2020-11-04 12:00:00.00+00:00         21  7.5\n",
       "1             1  2020-11-04 14:00:00.00+00:00         20  7.5\n",
       "2             2  2020-11-04 16:00:00.00+00:00         18  7.5\n",
       "3             3  2020-11-04 18:00:00.00+00:00         18  7.5\n",
       "4             4  2020-11-04 20:00:00.00+00:00         19  7.5\n",
       "..          ...                           ...        ...  ...\n",
       "140         187  2020-11-16 04:00:00.00+00:00         16  7.5\n",
       "141         188  2020-11-16 06:00:00.00+00:00         16  7.5\n",
       "142         189  2020-11-16 08:00:00.00+00:00         17  7.5\n",
       "143         190  2020-11-16 10:00:00.00+00:00         12  7.5\n",
       "144         191  2020-11-16 12:00:00.00+00:00         14  7.5\n",
       "\n",
       "[145 rows x 4 columns]"
      ]
     },
     "execution_count": 13,
     "metadata": {},
     "output_type": "execute_result"
    }
   ],
   "source": [
    "# get test data from this directory\n",
    "def get_temp_data(data_path):\n",
    "    return pd.read_csv(data_path)\n",
    "\n",
    "#Method get_ammonia_data is to read water ammonia test data from csv file .\n",
    "#def get_ammonia_data( ):\n",
    "#    return pd.read_csv(\"Ammonia.csv\")\n",
    "\n",
    "data_path = './nyewasco_data.csv'\n",
    "df = get_temp_data(data_path)\n",
    "df"
   ]
  },
  {
   "cell_type": "markdown",
   "metadata": {},
   "source": [
    "### Display the general information on the dataset loaded"
   ]
  },
  {
   "cell_type": "code",
   "execution_count": 18,
   "metadata": {},
   "outputs": [
    {
     "name": "stdout",
     "output_type": "stream",
     "text": [
      "Data Range \n",
      "\n",
      "Start Date 0    2020-11-04 12:00:00.00+00:00\n",
      "Name: time, dtype: object \n",
      "\n",
      "End Date 144    2020-11-16 12:00:00.00+00:00\n",
      "Name: time, dtype: object \n",
      " \n",
      "Num_values : 145 \n"
     ]
    }
   ],
   "source": [
    "def display_info(df):\n",
    "    print(\"Data Range \\n\")\n",
    "    print(\"Start Date %s \\n\"%(df.head(1)['time']))\n",
    "    print(\"End Date %s \\n \"%(df.tail (1)['time']))\n",
    "    print(\"Num_values : %s \"%(df.shape[0]))\n",
    "    \n",
    "    \n",
    "display_info(df)"
   ]
  },
  {
   "cell_type": "markdown",
   "metadata": {},
   "source": [
    "### Plot the Original Dataset"
   ]
  },
  {
   "cell_type": "code",
   "execution_count": 21,
   "metadata": {},
   "outputs": [
    {
     "data": {
      "image/png": "[encoded data removed]",
      "text/plain": [
       "<Figure size 1440x720 with 1 Axes>"
      ]
     },
     "metadata": {
      "needs_background": "light"
     },
     "output_type": "display_data"
    }
   ],
   "source": [
    "def plot_original_data(df, title):\n",
    "    f1 = plt.figure(figsize =(20, 10))\n",
    "    df['turbidity'].plot( )\n",
    "    plt.xlabel(\"time\")\n",
    "    plt.xlabel(\"time\")\n",
    "    plt.ylabel(\"turbidity\")\n",
    "    plt.title(title)\n",
    "    plt.show( )\n",
    "    \n",
    "    \n",
    "plot_original_data(df, \"A graph of  Turbidity and pH against time for sensors in River Ewasonyiro fr water quality monitoring\")"
   ]
  },
  {
   "cell_type": "markdown",
   "metadata": {},
   "source": [
    "### Prepare traning dataset"
   ]
  },
  {
   "cell_type": "code",
   "execution_count": 29,
   "metadata": {},
   "outputs": [
    {
     "data": {
      "text/plain": [
       "array([[ 21],\n",
       "       [ 20],\n",
       "       [ 18],\n",
       "       [ 18],\n",
       "       [ 19],\n",
       "       [ 20],\n",
       "       [ 20],\n",
       "       [ 21],\n",
       "       [ 20],\n",
       "       [ 19],\n",
       "       [ 20],\n",
       "       [ 21],\n",
       "       [ 25],\n",
       "       [ 28],\n",
       "       [ 28],\n",
       "       [ 28],\n",
       "       [ 28],\n",
       "       [ 42],\n",
       "       [ 49],\n",
       "       [ 32],\n",
       "       [ 29],\n",
       "       [ 26],\n",
       "       [ 28],\n",
       "       [ 38],\n",
       "       [ 52],\n",
       "       [ 47],\n",
       "       [ 43],\n",
       "       [ 40],\n",
       "       [ 39],\n",
       "       [ 35],\n",
       "       [ 29],\n",
       "       [ 28],\n",
       "       [ 25],\n",
       "       [ 25],\n",
       "       [ 28],\n",
       "       [ 21],\n",
       "       [ 22],\n",
       "       [ 21],\n",
       "       [ 22],\n",
       "       [ 22],\n",
       "       [ 25],\n",
       "       [ 26],\n",
       "       [ 24],\n",
       "       [ 22],\n",
       "       [ 19],\n",
       "       [ 19],\n",
       "       [ 18],\n",
       "       [ 19],\n",
       "       [ 19],\n",
       "       [ 20],\n",
       "       [ 21],\n",
       "       [ 20],\n",
       "       [ 20],\n",
       "       [ 20],\n",
       "       [ 19],\n",
       "       [ 18],\n",
       "       [ 18],\n",
       "       [ 18],\n",
       "       [ 19],\n",
       "       [ 21],\n",
       "       [ 19],\n",
       "       [ 19],\n",
       "       [ 18],\n",
       "       [ 29],\n",
       "       [ 28],\n",
       "       [ 27],\n",
       "       [ 29],\n",
       "       [ 26],\n",
       "       [ 18],\n",
       "       [ 20],\n",
       "       [ 19],\n",
       "       [ 17],\n",
       "       [ 18],\n",
       "       [ 17],\n",
       "       [ 18],\n",
       "       [ 23],\n",
       "       [ 21],\n",
       "       [ 20],\n",
       "       [ 21],\n",
       "       [ 12],\n",
       "       [ 14],\n",
       "       [ 15],\n",
       "       [ 15],\n",
       "       [ 17],\n",
       "       [ 16],\n",
       "       [ 17],\n",
       "       [ 18],\n",
       "       [ 19],\n",
       "       [ 18],\n",
       "       [ 16],\n",
       "       [ 17],\n",
       "       [ 15],\n",
       "       [ 16],\n",
       "       [ 14],\n",
       "       [ 13],\n",
       "       [ 14],\n",
       "       [ 13],\n",
       "       [ 13],\n",
       "       [ 12],\n",
       "       [ 15],\n",
       "       [ 16],\n",
       "       [ 38],\n",
       "       [ 36],\n",
       "       [ 29],\n",
       "       [ 25],\n",
       "       [ 23],\n",
       "       [ 14],\n",
       "       [ 13],\n",
       "       [ 13],\n",
       "       [ 13],\n",
       "       [ 12],\n",
       "       [ 26],\n",
       "       [ 38],\n",
       "       [ 65],\n",
       "       [ 63],\n",
       "       [ 61],\n",
       "       [ 28],\n",
       "       [ 18],\n",
       "       [ 16],\n",
       "       [ 16],\n",
       "       [ 15],\n",
       "       [ 15],\n",
       "       [ 18],\n",
       "       [ 84],\n",
       "       [150],\n",
       "       [ 97],\n",
       "       [ 93],\n",
       "       [ 82],\n",
       "       [ 54],\n",
       "       [ 28],\n",
       "       [ 18],\n",
       "       [ 17],\n",
       "       [ 18],\n",
       "       [ 17],\n",
       "       [ 17],\n",
       "       [ 18],\n",
       "       [ 17],\n",
       "       [ 18],\n",
       "       [ 18],\n",
       "       [ 17],\n",
       "       [ 16],\n",
       "       [ 16],\n",
       "       [ 17],\n",
       "       [ 12],\n",
       "       [ 14]], dtype=int64)"
      ]
     },
     "execution_count": 29,
     "metadata": {},
     "output_type": "execute_result"
    }
   ],
   "source": [
    "def prepare_traning_dataset(df):\n",
    "    \n",
    "    #lets get value of dataset\n",
    "    X = df['turbidity'].values \n",
    "    \n",
    "    # reshape the data to only one column\n",
    "    X = X.reshape(-1, 1)\n",
    "    return X\n",
    "training_data = prepare_traning_dataset(df)\n",
    "training_data"
   ]
  },
  {
   "cell_type": "markdown",
   "metadata": {},
   "source": [
    "### Reshape traning dataset"
   ]
  },
  {
   "cell_type": "code",
   "execution_count": 28,
   "metadata": {},
   "outputs": [
    {
     "data": {
      "text/plain": [
       "array([[ 21],\n",
       "       [ 20],\n",
       "       [ 18],\n",
       "       [ 18],\n",
       "       [ 19],\n",
       "       [ 20],\n",
       "       [ 20],\n",
       "       [ 21],\n",
       "       [ 20],\n",
       "       [ 19],\n",
       "       [ 20],\n",
       "       [ 21],\n",
       "       [ 25],\n",
       "       [ 28],\n",
       "       [ 28],\n",
       "       [ 28],\n",
       "       [ 28],\n",
       "       [ 42],\n",
       "       [ 49],\n",
       "       [ 32],\n",
       "       [ 29],\n",
       "       [ 26],\n",
       "       [ 28],\n",
       "       [ 38],\n",
       "       [ 52],\n",
       "       [ 47],\n",
       "       [ 43],\n",
       "       [ 40],\n",
       "       [ 39],\n",
       "       [ 35],\n",
       "       [ 29],\n",
       "       [ 28],\n",
       "       [ 25],\n",
       "       [ 25],\n",
       "       [ 28],\n",
       "       [ 21],\n",
       "       [ 22],\n",
       "       [ 21],\n",
       "       [ 22],\n",
       "       [ 22],\n",
       "       [ 25],\n",
       "       [ 26],\n",
       "       [ 24],\n",
       "       [ 22],\n",
       "       [ 19],\n",
       "       [ 19],\n",
       "       [ 18],\n",
       "       [ 19],\n",
       "       [ 19],\n",
       "       [ 20],\n",
       "       [ 21],\n",
       "       [ 20],\n",
       "       [ 20],\n",
       "       [ 20],\n",
       "       [ 19],\n",
       "       [ 18],\n",
       "       [ 18],\n",
       "       [ 18],\n",
       "       [ 19],\n",
       "       [ 21],\n",
       "       [ 19],\n",
       "       [ 19],\n",
       "       [ 18],\n",
       "       [ 29],\n",
       "       [ 28],\n",
       "       [ 27],\n",
       "       [ 29],\n",
       "       [ 26],\n",
       "       [ 18],\n",
       "       [ 20],\n",
       "       [ 19],\n",
       "       [ 17],\n",
       "       [ 18],\n",
       "       [ 17],\n",
       "       [ 18],\n",
       "       [ 23],\n",
       "       [ 21],\n",
       "       [ 20],\n",
       "       [ 21],\n",
       "       [ 12],\n",
       "       [ 14],\n",
       "       [ 15],\n",
       "       [ 15],\n",
       "       [ 17],\n",
       "       [ 16],\n",
       "       [ 17],\n",
       "       [ 18],\n",
       "       [ 19],\n",
       "       [ 18],\n",
       "       [ 16],\n",
       "       [ 17],\n",
       "       [ 15],\n",
       "       [ 16],\n",
       "       [ 14],\n",
       "       [ 13],\n",
       "       [ 14],\n",
       "       [ 13],\n",
       "       [ 13],\n",
       "       [ 12],\n",
       "       [ 15],\n",
       "       [ 16],\n",
       "       [ 38],\n",
       "       [ 36],\n",
       "       [ 29],\n",
       "       [ 25],\n",
       "       [ 23],\n",
       "       [ 14],\n",
       "       [ 13],\n",
       "       [ 13],\n",
       "       [ 13],\n",
       "       [ 12],\n",
       "       [ 26],\n",
       "       [ 38],\n",
       "       [ 65],\n",
       "       [ 63],\n",
       "       [ 61],\n",
       "       [ 28],\n",
       "       [ 18],\n",
       "       [ 16],\n",
       "       [ 16],\n",
       "       [ 15],\n",
       "       [ 15],\n",
       "       [ 18],\n",
       "       [ 84],\n",
       "       [150],\n",
       "       [ 97],\n",
       "       [ 93],\n",
       "       [ 82],\n",
       "       [ 54],\n",
       "       [ 28],\n",
       "       [ 18],\n",
       "       [ 17],\n",
       "       [ 18],\n",
       "       [ 17],\n",
       "       [ 17],\n",
       "       [ 18],\n",
       "       [ 17],\n",
       "       [ 18],\n",
       "       [ 18],\n",
       "       [ 17],\n",
       "       [ 16],\n",
       "       [ 16],\n",
       "       [ 17],\n",
       "       [ 12],\n",
       "       [ 14]], dtype=int64)"
      ]
     },
     "execution_count": 28,
     "metadata": {},
     "output_type": "execute_result"
    }
   ],
   "source": [
    "def reshape_traning_dataset(df):\n",
    "    \n",
    "    #lets get value of dataset\n",
    "    X = df['turbidity'].values \n",
    "    \n",
    "    #lets change the value of precision to 2    \n",
    "    X = np.round(X, 2)\n",
    "    \n",
    "    # reshape the data to only one column\n",
    "    X = X.reshape(-1, 1)\n",
    "    return X\n",
    "\n",
    "reshaped_data = reshape_traning_dataset(df)\n",
    "reshaped_data"
   ]
  },
  {
   "cell_type": "code",
   "execution_count": 43,
   "metadata": {},
   "outputs": [
    {
     "data": {
      "text/html": [
       "<div>\n",
       "<style scoped>\n",
       "    .dataframe tbody tr th:only-of-type {\n",
       "        vertical-align: middle;\n",
       "    }\n",
       "\n",
       "    .dataframe tbody tr th {\n",
       "        vertical-align: top;\n",
       "    }\n",
       "\n",
       "    .dataframe thead th {\n",
       "        text-align: right;\n",
       "    }\n",
       "</style>\n",
       "<table border=\"1\" class=\"dataframe\">\n",
       "  <thead>\n",
       "    <tr style=\"text-align: right;\">\n",
       "      <th></th>\n",
       "      <th>Unnamed: 0</th>\n",
       "      <th>time</th>\n",
       "      <th>turbidity</th>\n",
       "      <th>pH</th>\n",
       "      <th>isinlier</th>\n",
       "    </tr>\n",
       "  </thead>\n",
       "  <tbody>\n",
       "    <tr>\n",
       "      <th>124</th>\n",
       "      <td>171</td>\n",
       "      <td>2020-11-14 20:00:00.00+00:00</td>\n",
       "      <td>150</td>\n",
       "      <td>7.4</td>\n",
       "      <td>-10.521599</td>\n",
       "    </tr>\n",
       "  </tbody>\n",
       "</table>\n",
       "</div>"
      ],
      "text/plain": [
       "     Unnamed: 0                          time  turbidity   pH   isinlier\n",
       "124         171  2020-11-14 20:00:00.00+00:00        150  7.4 -10.521599"
      ]
     },
     "execution_count": 43,
     "metadata": {},
     "output_type": "execute_result"
    }
   ],
   "source": [
    "clf = LocalOutlierFactor(n_neighbors=50, metric='euclidean')\n",
    "\n",
    "def lof_prediction(clf, training_data_set, data_set):\n",
    "    \n",
    "    #fit clf with training data set\n",
    "    y_pred = clf.fit_predict(training_data_set)\n",
    "    \n",
    "    #Get the prediction score\n",
    "    y_pred = clf._decision_function(training_data_set)\n",
    "    \n",
    "    # combine training data and prediction result\n",
    "    data_set['isinlier'] = y_pred\n",
    "    \n",
    "    #datascores less than -10  are outliers, we get them \n",
    "    anomalies = data_set.loc[data_set['isinlier']< -10]\n",
    "    data_set\n",
    "    return anomalies\n",
    "\n",
    "anomalies = lof_prediction(clf, training_data, df)\n",
    "anomalies"
   ]
  },
  {
   "cell_type": "markdown",
   "metadata": {},
   "source": [
    "### Plot the result of LOF anomaly detection"
   ]
  },
  {
   "cell_type": "code",
   "execution_count": 47,
   "metadata": {
    "scrolled": true
   },
   "outputs": [
    {
     "data": {
      "image/png": "[encoded data removed]",
      "text/plain": [
       "<Figure size 1440x720 with 1 Axes>"
      ]
     },
     "metadata": {
      "needs_background": "light"
     },
     "output_type": "display_data"
    }
   ],
   "source": [
    "# lets plot the result of LOF anomaly detection\n",
    "def plot_lof_result(dataset, anomalies, title):\n",
    "    if 'isinlier' in dataset.columns:\n",
    "        del dataset['isinlier']\n",
    "        \n",
    "    if 'isinlier' in anomalies.columns:\n",
    "        del anomalies['isinlier']\n",
    "        \n",
    "    f2 = plt.figure(figsize =(20, 10))\n",
    "    plt.plot(dataset['turbidity'], color='green')\n",
    "    plt.plot(anomalies['turbidity'], \"r\", markersize =10)\n",
    "    plt.xlabel(\"time\")\n",
    "    plt.ylabel(\"turbidity\")\n",
    "    plt.title(title)\n",
    "    plt.show()\n",
    "    \n",
    "    \n",
    "plot_lof_result(df, anomalies, \"Anomalies in the Ewasonyiro Water Monitoring for Turbidity\")\n"
   ]
  },
  {
   "cell_type": "code",
   "execution_count": 48,
   "metadata": {},
   "outputs": [
    {
     "data": {
      "image/png": "[encoded data removed]",
      "text/plain": [
       "<Figure size 1440x720 with 1 Axes>"
      ]
     },
     "metadata": {
      "needs_background": "light"
     },
     "output_type": "display_data"
    }
   ],
   "source": [
    "# lets plot the result of LOF anomaly detection\n",
    "def plot_lof_result(dataset, anomalies, title):\n",
    "    if 'isinlier' in dataset.columns:\n",
    "        del dataset['isinlier']\n",
    "        \n",
    "    if 'isinlier' in anomalies.columns:\n",
    "        del anomalies['isinlier']\n",
    "        \n",
    "    f2 = plt.figure(figsize =(20, 10))\n",
    "    plt.plot(anomalies['turbidity'], \"r\", markersize =10)\n",
    "    plt.xlabel(\"time\")\n",
    "    plt.ylabel(\"turbidity\")\n",
    "    plt.title(title)\n",
    "    plt.show()\n",
    "    \n",
    "    \n",
    "plot_lof_result(df, anomalies, \"Anomalies in the Ewasonyiro Water Monitoring for Turbidity\")\n"
   ]
  },
  {
   "cell_type": "markdown",
   "metadata": {},
   "source": [
    "### Score each data using Local Outlier Factor (LOF) inside subset and return the scores less than 10, the outliers "
   ]
  },
  {
   "cell_type": "code",
   "execution_count": 58,
   "metadata": {},
   "outputs": [
    {
     "ename": "AttributeError",
     "evalue": "'numpy.ndarray' object has no attribute 'is_copy'",
     "output_type": "error",
     "traceback": [
      "\u001b[1;31m---------------------------------------------------------------------------\u001b[0m",
      "\u001b[1;31mAttributeError\u001b[0m                            Traceback (most recent call last)",
      "\u001b[1;32m<ipython-input-58-14141e9fbf59>\u001b[0m in \u001b[0;36m<module>\u001b[1;34m\u001b[0m\n\u001b[0;32m      9\u001b[0m     \u001b[1;32mreturn\u001b[0m \u001b[0my\u001b[0m\u001b[1;33m.\u001b[0m\u001b[0mloc\u001b[0m\u001b[1;33m[\u001b[0m\u001b[0my\u001b[0m\u001b[1;33m[\u001b[0m \u001b[1;34m' isinlier'\u001b[0m\u001b[1;33m]\u001b[0m \u001b[1;33m<\u001b[0m\u001b[1;33m-\u001b[0m\u001b[1;36m10\u001b[0m\u001b[1;33m]\u001b[0m\u001b[1;33m\u001b[0m\u001b[1;33m\u001b[0m\u001b[0m\n\u001b[0;32m     10\u001b[0m \u001b[1;33m\u001b[0m\u001b[0m\n\u001b[1;32m---> 11\u001b[1;33m \u001b[0mget_anormalies\u001b[0m\u001b[1;33m(\u001b[0m\u001b[0mreshaped_data\u001b[0m\u001b[1;33m,\u001b[0m \u001b[0mclf\u001b[0m\u001b[1;33m)\u001b[0m\u001b[1;33m\u001b[0m\u001b[1;33m\u001b[0m\u001b[0m\n\u001b[0m",
      "\u001b[1;32m<ipython-input-58-14141e9fbf59>\u001b[0m in \u001b[0;36mget_anormalies\u001b[1;34m(y, clf)\u001b[0m\n\u001b[0;32m      4\u001b[0m \u001b[1;31m#clf Instance of Class Local Outlier Factor of Scikit−learnlibrary\u001b[0m\u001b[1;33m\u001b[0m\u001b[1;33m\u001b[0m\u001b[1;33m\u001b[0m\u001b[0m\n\u001b[0;32m      5\u001b[0m \u001b[1;32mdef\u001b[0m \u001b[0mget_anormalies\u001b[0m\u001b[1;33m(\u001b[0m\u001b[0my\u001b[0m\u001b[1;33m,\u001b[0m \u001b[0mclf\u001b[0m\u001b[1;33m)\u001b[0m\u001b[1;33m:\u001b[0m\u001b[1;33m\u001b[0m\u001b[1;33m\u001b[0m\u001b[0m\n\u001b[1;32m----> 6\u001b[1;33m     \u001b[0my\u001b[0m\u001b[1;33m.\u001b[0m\u001b[0mis_copy\u001b[0m \u001b[1;33m=\u001b[0m \u001b[1;32mFalse\u001b[0m\u001b[1;33m\u001b[0m\u001b[1;33m\u001b[0m\u001b[0m\n\u001b[0m\u001b[0;32m      7\u001b[0m     \u001b[0my_pred\u001b[0m \u001b[1;33m=\u001b[0m \u001b[0mclf\u001b[0m\u001b[1;33m.\u001b[0m\u001b[0m_decision_function\u001b[0m\u001b[1;33m(\u001b[0m\u001b[0my\u001b[0m\u001b[1;33m)\u001b[0m\u001b[1;33m\u001b[0m\u001b[1;33m\u001b[0m\u001b[0m\n\u001b[0;32m      8\u001b[0m     \u001b[0my\u001b[0m\u001b[1;33m[\u001b[0m\u001b[1;34m'isinlier'\u001b[0m\u001b[1;33m]\u001b[0m \u001b[1;33m=\u001b[0m \u001b[0my_pred\u001b[0m\u001b[1;33m\u001b[0m\u001b[1;33m\u001b[0m\u001b[0m\n",
      "\u001b[1;31mAttributeError\u001b[0m: 'numpy.ndarray' object has no attribute 'is_copy'"
     ]
    }
   ],
   "source": [
    "#return : Anomalies\n",
    "\n",
    "#y = subset of test dataset, we can use the whole df in our case\n",
    "#clf Instance of Class Local Outlier Factor of Scikit−learnlibrary\n",
    "def get_anormalies(y, clf):\n",
    "    y.is_copy = False\n",
    "    y_pred = clf._decision_function(y)\n",
    "    y['isinlier'] = y_pred\n",
    "    return y.loc[y[ ' isinlier'] <-10]\n",
    "\n",
    "get_anormalies(reshaped_data, clf)\n"
   ]
  },
  {
   "cell_type": "markdown",
   "metadata": {},
   "source": [
    "### Get the outlier of the dataser by dividing it into subsets, it returns the accumulated anormalies"
   ]
  },
  {
   "cell_type": "code",
   "execution_count": 45,
   "metadata": {},
   "outputs": [],
   "source": [
    "def calculate_outlier(x, window_size, clf):\n",
    "    \n",
    "    length = x.shape[0]\n",
    "    result = pd.DataFrame(columns = x.columns)\n",
    "    i = 0\n",
    "    \n",
    "    while i < length :\n",
    "        begin_index = i\n",
    "        i += window_size\n",
    "        end_index = i\n",
    "        if(i > length):\n",
    "            end_index = length\n",
    "        y = x.iloc[begin_index : end_index]\n",
    "        y.is_copy = False\n",
    "        yield get_anormalies(y, clf)\n"
   ]
  },
  {
   "cell_type": "markdown",
   "metadata": {},
   "source": [
    "### Display Result for Luminol, return anomalies"
   ]
  },
  {
   "cell_type": "code",
   "execution_count": 46,
   "metadata": {},
   "outputs": [],
   "source": [
    "def format_luminol_result(anomalies, display):\n",
    "    rows_list = []\n",
    "    i =1\n",
    "    for timestamp in anomalies:\n",
    "        start = time.localtime(timestamp.start_timestamp / 1000)\n",
    "        start_str = time.strftime('%Y−%m−%d %H:%M:%S ' , start)\n",
    "        end = time.localtime(timestamp.end_timestamp / 1000)\n",
    "        end_str = time.strftime('%Y−%m−%d %H:%M:%S' , end)\n",
    "        exact = time.localtime(timestamp.exact_timestamp / 1000)\n",
    "        ex_str = time.strftime('%Y−%m−%d %H:%M:%S' , exact)\n",
    "        rows_list.append([i, start_str , end_str, ex_str])\n",
    "        if display:\n",
    "            print(\"Anomaly %s : \"%( i ))\n",
    "            print(\"Start : %s \"%(start_str))\n",
    "            print(\"End : %s \"%(end_str))\n",
    "            print(\"Exact : %s \"%(ex_str))\n",
    "        i= i +1\n",
    "    return pd.DataFrame(rows_list, columns=[ 'Number ' , ' Start On ' ,'End On ' , ' Exactly Happen On'])\n"
   ]
  },
  {
   "cell_type": "code",
   "execution_count": null,
   "metadata": {},
   "outputs": [],
   "source": []
  }
 ],
 "metadata": {
  "kernelspec": {
   "display_name": "Python 3",
   "language": "python",
   "name": "python3"
  },
  "language_info": {
   "codemirror_mode": {
    "name": "ipython",
    "version": 3
   },
   "file_extension": ".py",
   "mimetype": "text/x-python",
   "name": "python",
   "nbconvert_exporter": "python",
   "pygments_lexer": "ipython3",
   "version": "3.8.3"
  }
 },
 "nbformat": 4,
 "nbformat_minor": 4
}

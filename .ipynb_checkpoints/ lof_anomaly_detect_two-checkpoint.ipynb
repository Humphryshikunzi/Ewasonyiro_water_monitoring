{
 "cells": [
  {
   "cell_type": "markdown",
   "metadata": {},
   "source": [
    "### Import the necessary libraries to use in the repo"
   ]
  },
  {
   "cell_type": "code",
   "execution_count": 1,
   "metadata": {},
   "outputs": [],
   "source": [
    "import pandas as pd\n",
    "import numpy as np\n",
    "import math\n",
    "import time\n",
    "import matplotlib.pyplot as plt\n",
    "from sklearn.base import TransformerMixin\n",
    "from sklearn.pipeline import Pipeline\n",
    "from sklearn.pipeline import make_pipeline\n",
    "from sklearn.preprocessing import StandardScaler\n",
    "from sklearn.preprocessing import MinMaxScaler\n",
    "from sklearn.neighbors import LocalOutlierFactor\n",
    "import matplotlib.pylab as pylab\n",
    "import luminol\n",
    "from luminol import utils , anomaly_detector\n",
    "from luminol.anomaly_detector import AnomalyDetector\n",
    "import tad.anomaly_detect_ts as detts\n"
   ]
  },
  {
   "cell_type": "markdown",
   "metadata": {},
   "source": [
    "### We create two functions, set_col_index and sort_time_series to set column index and sort data based on date of data time series respectively"
   ]
  },
  {
   "cell_type": "code",
   "execution_count": 2,
   "metadata": {},
   "outputs": [],
   "source": [
    "# set index column\n",
    "class set_col_as_index(TransformerMixin):\n",
    "    def __init__(self, col):\n",
    "        self.col = col\n",
    "    \n",
    "    def transform (self, X, **transform_params):\n",
    "        X.index = X.loc[:, self.col].apply(lambda x: pd.to_datetime(x))\n",
    "        return X\n",
    "    \n",
    "    def fit(self, X, y=None, **fit_params):\n",
    "        return self"
   ]
  },
  {
   "cell_type": "markdown",
   "metadata": {},
   "source": [
    "### Create index and transform the 'TimeStamp' column"
   ]
  },
  {
   "cell_type": "code",
   "execution_count": 3,
   "metadata": {},
   "outputs": [],
   "source": [
    "#sort data based on the index\n",
    "class sort_time_series(TransformerMixin):\n",
    "    def transform(self, X, **transform_params):\n",
    "        X = X.sort_index( )\n",
    "        return X\n",
    "    \n",
    "    def fit(self, X, y=None, **fit_params):\n",
    "        return self\n",
    "    \n"
   ]
  },
  {
   "cell_type": "markdown",
   "metadata": {},
   "source": [
    "### Function to Process dataset"
   ]
  },
  {
   "cell_type": "code",
   "execution_count": 4,
   "metadata": {},
   "outputs": [],
   "source": [
    "#Create index and transform the 'TimeStamp' column\n",
    "def process_data(x):\n",
    "    process_pipeline = make_pipeline(set_col_as_index('time'), sort_time_series())\n",
    "    x = process_pipeline.fit_transform(x)\n",
    "    del x['time']\n",
    "    return x"
   ]
  },
  {
   "cell_type": "markdown",
   "metadata": {},
   "source": [
    "### Function to load data from csv file, process and return the data"
   ]
  },
  {
   "cell_type": "code",
   "execution_count": 5,
   "metadata": {},
   "outputs": [
    {
     "data": {
      "text/html": [
       "<div>\n",
       "<style scoped>\n",
       "    .dataframe tbody tr th:only-of-type {\n",
       "        vertical-align: middle;\n",
       "    }\n",
       "\n",
       "    .dataframe tbody tr th {\n",
       "        vertical-align: top;\n",
       "    }\n",
       "\n",
       "    .dataframe thead th {\n",
       "        text-align: right;\n",
       "    }\n",
       "</style>\n",
       "<table border=\"1\" class=\"dataframe\">\n",
       "  <thead>\n",
       "    <tr style=\"text-align: right;\">\n",
       "      <th></th>\n",
       "      <th>Unnamed: 0</th>\n",
       "      <th>time</th>\n",
       "      <th>turbidity</th>\n",
       "      <th>pH</th>\n",
       "    </tr>\n",
       "  </thead>\n",
       "  <tbody>\n",
       "    <tr>\n",
       "      <th>0</th>\n",
       "      <td>0</td>\n",
       "      <td>2020-11-04 12:00:00.00+00:00</td>\n",
       "      <td>21</td>\n",
       "      <td>7.5</td>\n",
       "    </tr>\n",
       "    <tr>\n",
       "      <th>1</th>\n",
       "      <td>1</td>\n",
       "      <td>2020-11-04 14:00:00.00+00:00</td>\n",
       "      <td>20</td>\n",
       "      <td>7.5</td>\n",
       "    </tr>\n",
       "    <tr>\n",
       "      <th>2</th>\n",
       "      <td>2</td>\n",
       "      <td>2020-11-04 16:00:00.00+00:00</td>\n",
       "      <td>18</td>\n",
       "      <td>7.5</td>\n",
       "    </tr>\n",
       "    <tr>\n",
       "      <th>3</th>\n",
       "      <td>3</td>\n",
       "      <td>2020-11-04 18:00:00.00+00:00</td>\n",
       "      <td>18</td>\n",
       "      <td>7.5</td>\n",
       "    </tr>\n",
       "    <tr>\n",
       "      <th>4</th>\n",
       "      <td>4</td>\n",
       "      <td>2020-11-04 20:00:00.00+00:00</td>\n",
       "      <td>19</td>\n",
       "      <td>7.5</td>\n",
       "    </tr>\n",
       "  </tbody>\n",
       "</table>\n",
       "</div>"
      ],
      "text/plain": [
       "   Unnamed: 0                          time  turbidity   pH\n",
       "0           0  2020-11-04 12:00:00.00+00:00         21  7.5\n",
       "1           1  2020-11-04 14:00:00.00+00:00         20  7.5\n",
       "2           2  2020-11-04 16:00:00.00+00:00         18  7.5\n",
       "3           3  2020-11-04 18:00:00.00+00:00         18  7.5\n",
       "4           4  2020-11-04 20:00:00.00+00:00         19  7.5"
      ]
     },
     "execution_count": 5,
     "metadata": {},
     "output_type": "execute_result"
    }
   ],
   "source": [
    "# get test data for water quality monitoring from this directory\n",
    "def get_temp_data(data_path):\n",
    "    return pd.read_csv(data_path)\n",
    "\n",
    "\n",
    "data_path = './nyewasco_data.csv'\n",
    "df = get_temp_data(data_path)\n",
    "df.head()"
   ]
  },
  {
   "cell_type": "markdown",
   "metadata": {},
   "source": [
    "### Display the general information on the dataset loaded"
   ]
  },
  {
   "cell_type": "code",
   "execution_count": 6,
   "metadata": {},
   "outputs": [
    {
     "name": "stdout",
     "output_type": "stream",
     "text": [
      "Data Range \n",
      "\n",
      "Start Date 0    2020-11-04 12:00:00.00+00:00\n",
      "Name: time, dtype: object \n",
      "\n",
      "End Date 144    2020-11-16 12:00:00.00+00:00\n",
      "Name: time, dtype: object \n",
      " \n",
      "Num_values : 145 \n"
     ]
    }
   ],
   "source": [
    "def display_info(df):\n",
    "    print(\"Data Range \\n\")\n",
    "    print(\"Start Date %s \\n\"%(df.head(1)['time']))\n",
    "    print(\"End Date %s \\n \"%(df.tail (1)['time']))\n",
    "    print(\"Num_values : %s \"%(df.shape[0]))\n",
    "    \n",
    "    \n",
    "display_info(df)"
   ]
  },
  {
   "cell_type": "markdown",
   "metadata": {},
   "source": [
    "### Plot the Original Dataset"
   ]
  },
  {
   "cell_type": "code",
   "execution_count": 7,
   "metadata": {},
   "outputs": [
    {
     "data": {
      "image/png": "[encoded data removed]",
      "text/plain": [
       "<Figure size 1440x720 with 1 Axes>"
      ]
     },
     "metadata": {
      "needs_background": "light"
     },
     "output_type": "display_data"
    }
   ],
   "source": [
    "def plot_original_data(df, title):\n",
    "    f1 = plt.figure(figsize =(20, 10))\n",
    "    df['turbidity'].plot( )\n",
    "    plt.xlabel(\"time\")\n",
    "    plt.xlabel(\"time\")\n",
    "    plt.ylabel(\"turbidity\")\n",
    "    plt.title(title)\n",
    "    plt.show( )\n",
    "    \n",
    "    \n",
    "plot_original_data(df, \"A graph of  Turbidity and pH against time for sensors in River Ewasonyiro fr water quality monitoring\")"
   ]
  },
  {
   "cell_type": "markdown",
   "metadata": {},
   "source": [
    "### Prepare traning dataset"
   ]
  },
  {
   "cell_type": "code",
   "execution_count": 8,
   "metadata": {},
   "outputs": [
    {
     "name": "stdout",
     "output_type": "stream",
     "text": [
      "Items :  145 \n",
      "\n",
      " Head\n"
     ]
    },
    {
     "data": {
      "text/plain": [
       "array([[21],\n",
       "       [20],\n",
       "       [18],\n",
       "       [18],\n",
       "       [19]], dtype=int64)"
      ]
     },
     "execution_count": 8,
     "metadata": {},
     "output_type": "execute_result"
    }
   ],
   "source": [
    "def prepare_traning_dataset(df):\n",
    "    \n",
    "    #lets get value of dataset\n",
    "    X = df['turbidity'].values \n",
    "    \n",
    "    # reshape the data to only one column\n",
    "    X = X.reshape(-1, 1)\n",
    "    return X\n",
    "\n",
    "training_data = prepare_traning_dataset(df)\n",
    "\n",
    "print('Items : ', len(training_data), '\\n\\n Head')\n",
    "training_data[:5]"
   ]
  },
  {
   "cell_type": "markdown",
   "metadata": {},
   "source": [
    "### Preprocess training dataset "
   ]
  },
  {
   "cell_type": "code",
   "execution_count": 9,
   "metadata": {},
   "outputs": [
    {
     "data": {
      "text/html": [
       "<div>\n",
       "<style scoped>\n",
       "    .dataframe tbody tr th:only-of-type {\n",
       "        vertical-align: middle;\n",
       "    }\n",
       "\n",
       "    .dataframe tbody tr th {\n",
       "        vertical-align: top;\n",
       "    }\n",
       "\n",
       "    .dataframe thead th {\n",
       "        text-align: right;\n",
       "    }\n",
       "</style>\n",
       "<table border=\"1\" class=\"dataframe\">\n",
       "  <thead>\n",
       "    <tr style=\"text-align: right;\">\n",
       "      <th></th>\n",
       "      <th>Unnamed: 0</th>\n",
       "      <th>time</th>\n",
       "      <th>turbidity</th>\n",
       "      <th>pH</th>\n",
       "    </tr>\n",
       "    <tr>\n",
       "      <th>time</th>\n",
       "      <th></th>\n",
       "      <th></th>\n",
       "      <th></th>\n",
       "      <th></th>\n",
       "    </tr>\n",
       "  </thead>\n",
       "  <tbody>\n",
       "    <tr>\n",
       "      <th>2020-11-04 12:00:00+00:00</th>\n",
       "      <td>0</td>\n",
       "      <td>2020-11-04 12:00:00.00+00:00</td>\n",
       "      <td>21</td>\n",
       "      <td>7.5</td>\n",
       "    </tr>\n",
       "    <tr>\n",
       "      <th>2020-11-04 14:00:00+00:00</th>\n",
       "      <td>1</td>\n",
       "      <td>2020-11-04 14:00:00.00+00:00</td>\n",
       "      <td>20</td>\n",
       "      <td>7.5</td>\n",
       "    </tr>\n",
       "    <tr>\n",
       "      <th>2020-11-04 16:00:00+00:00</th>\n",
       "      <td>2</td>\n",
       "      <td>2020-11-04 16:00:00.00+00:00</td>\n",
       "      <td>18</td>\n",
       "      <td>7.5</td>\n",
       "    </tr>\n",
       "    <tr>\n",
       "      <th>2020-11-04 18:00:00+00:00</th>\n",
       "      <td>3</td>\n",
       "      <td>2020-11-04 18:00:00.00+00:00</td>\n",
       "      <td>18</td>\n",
       "      <td>7.5</td>\n",
       "    </tr>\n",
       "    <tr>\n",
       "      <th>2020-11-04 20:00:00+00:00</th>\n",
       "      <td>4</td>\n",
       "      <td>2020-11-04 20:00:00.00+00:00</td>\n",
       "      <td>19</td>\n",
       "      <td>7.5</td>\n",
       "    </tr>\n",
       "  </tbody>\n",
       "</table>\n",
       "</div>"
      ],
      "text/plain": [
       "                           Unnamed: 0                          time  \\\n",
       "time                                                                  \n",
       "2020-11-04 12:00:00+00:00           0  2020-11-04 12:00:00.00+00:00   \n",
       "2020-11-04 14:00:00+00:00           1  2020-11-04 14:00:00.00+00:00   \n",
       "2020-11-04 16:00:00+00:00           2  2020-11-04 16:00:00.00+00:00   \n",
       "2020-11-04 18:00:00+00:00           3  2020-11-04 18:00:00.00+00:00   \n",
       "2020-11-04 20:00:00+00:00           4  2020-11-04 20:00:00.00+00:00   \n",
       "\n",
       "                           turbidity   pH  \n",
       "time                                       \n",
       "2020-11-04 12:00:00+00:00         21  7.5  \n",
       "2020-11-04 14:00:00+00:00         20  7.5  \n",
       "2020-11-04 16:00:00+00:00         18  7.5  \n",
       "2020-11-04 18:00:00+00:00         18  7.5  \n",
       "2020-11-04 20:00:00+00:00         19  7.5  "
      ]
     },
     "execution_count": 9,
     "metadata": {},
     "output_type": "execute_result"
    }
   ],
   "source": [
    "# lets make the dates as index\n",
    "df_turbidity = process_data(df)\n",
    "df.head()"
   ]
  },
  {
   "cell_type": "code",
   "execution_count": 10,
   "metadata": {},
   "outputs": [
    {
     "data": {
      "text/html": [
       "<div>\n",
       "<style scoped>\n",
       "    .dataframe tbody tr th:only-of-type {\n",
       "        vertical-align: middle;\n",
       "    }\n",
       "\n",
       "    .dataframe tbody tr th {\n",
       "        vertical-align: top;\n",
       "    }\n",
       "\n",
       "    .dataframe thead th {\n",
       "        text-align: right;\n",
       "    }\n",
       "</style>\n",
       "<table border=\"1\" class=\"dataframe\">\n",
       "  <thead>\n",
       "    <tr style=\"text-align: right;\">\n",
       "      <th></th>\n",
       "      <th>Unnamed: 0</th>\n",
       "      <th>time</th>\n",
       "      <th>turbidity</th>\n",
       "      <th>pH</th>\n",
       "    </tr>\n",
       "    <tr>\n",
       "      <th>time</th>\n",
       "      <th></th>\n",
       "      <th></th>\n",
       "      <th></th>\n",
       "      <th></th>\n",
       "    </tr>\n",
       "  </thead>\n",
       "  <tbody>\n",
       "    <tr>\n",
       "      <th>2020-11-04 12:00:00+00:00</th>\n",
       "      <td>0</td>\n",
       "      <td>2020-11-04 12:00:00.00+00:00</td>\n",
       "      <td>21</td>\n",
       "      <td>7.5</td>\n",
       "    </tr>\n",
       "    <tr>\n",
       "      <th>2020-11-04 14:00:00+00:00</th>\n",
       "      <td>1</td>\n",
       "      <td>2020-11-04 14:00:00.00+00:00</td>\n",
       "      <td>20</td>\n",
       "      <td>7.5</td>\n",
       "    </tr>\n",
       "    <tr>\n",
       "      <th>2020-11-04 16:00:00+00:00</th>\n",
       "      <td>2</td>\n",
       "      <td>2020-11-04 16:00:00.00+00:00</td>\n",
       "      <td>18</td>\n",
       "      <td>7.5</td>\n",
       "    </tr>\n",
       "    <tr>\n",
       "      <th>2020-11-04 18:00:00+00:00</th>\n",
       "      <td>3</td>\n",
       "      <td>2020-11-04 18:00:00.00+00:00</td>\n",
       "      <td>18</td>\n",
       "      <td>7.5</td>\n",
       "    </tr>\n",
       "    <tr>\n",
       "      <th>2020-11-04 20:00:00+00:00</th>\n",
       "      <td>4</td>\n",
       "      <td>2020-11-04 20:00:00.00+00:00</td>\n",
       "      <td>19</td>\n",
       "      <td>7.5</td>\n",
       "    </tr>\n",
       "  </tbody>\n",
       "</table>\n",
       "</div>"
      ],
      "text/plain": [
       "                           Unnamed: 0                          time  \\\n",
       "time                                                                  \n",
       "2020-11-04 12:00:00+00:00           0  2020-11-04 12:00:00.00+00:00   \n",
       "2020-11-04 14:00:00+00:00           1  2020-11-04 14:00:00.00+00:00   \n",
       "2020-11-04 16:00:00+00:00           2  2020-11-04 16:00:00.00+00:00   \n",
       "2020-11-04 18:00:00+00:00           3  2020-11-04 18:00:00.00+00:00   \n",
       "2020-11-04 20:00:00+00:00           4  2020-11-04 20:00:00.00+00:00   \n",
       "\n",
       "                           turbidity   pH  \n",
       "time                                       \n",
       "2020-11-04 12:00:00+00:00         21  7.5  \n",
       "2020-11-04 14:00:00+00:00         20  7.5  \n",
       "2020-11-04 16:00:00+00:00         18  7.5  \n",
       "2020-11-04 18:00:00+00:00         18  7.5  \n",
       "2020-11-04 20:00:00+00:00         19  7.5  "
      ]
     },
     "execution_count": 10,
     "metadata": {},
     "output_type": "execute_result"
    }
   ],
   "source": [
    "df_turbidity = prepare_traning_dataset(df_turbidity)\n",
    "df.head()"
   ]
  },
  {
   "cell_type": "markdown",
   "metadata": {},
   "source": [
    "### Get prediction result for the turbidity"
   ]
  },
  {
   "cell_type": "code",
   "execution_count": 11,
   "metadata": {},
   "outputs": [
    {
     "data": {
      "text/html": [
       "<div>\n",
       "<style scoped>\n",
       "    .dataframe tbody tr th:only-of-type {\n",
       "        vertical-align: middle;\n",
       "    }\n",
       "\n",
       "    .dataframe tbody tr th {\n",
       "        vertical-align: top;\n",
       "    }\n",
       "\n",
       "    .dataframe thead th {\n",
       "        text-align: right;\n",
       "    }\n",
       "</style>\n",
       "<table border=\"1\" class=\"dataframe\">\n",
       "  <thead>\n",
       "    <tr style=\"text-align: right;\">\n",
       "      <th></th>\n",
       "      <th>Unnamed: 0</th>\n",
       "      <th>time</th>\n",
       "      <th>turbidity</th>\n",
       "      <th>pH</th>\n",
       "      <th>isinlier</th>\n",
       "    </tr>\n",
       "    <tr>\n",
       "      <th>time</th>\n",
       "      <th></th>\n",
       "      <th></th>\n",
       "      <th></th>\n",
       "      <th></th>\n",
       "      <th></th>\n",
       "    </tr>\n",
       "  </thead>\n",
       "  <tbody>\n",
       "    <tr>\n",
       "      <th>2020-11-14 20:00:00+00:00</th>\n",
       "      <td>171</td>\n",
       "      <td>2020-11-14 20:00:00.00+00:00</td>\n",
       "      <td>150</td>\n",
       "      <td>7.4</td>\n",
       "      <td>-10.521599</td>\n",
       "    </tr>\n",
       "  </tbody>\n",
       "</table>\n",
       "</div>"
      ],
      "text/plain": [
       "                           Unnamed: 0                          time  \\\n",
       "time                                                                  \n",
       "2020-11-14 20:00:00+00:00         171  2020-11-14 20:00:00.00+00:00   \n",
       "\n",
       "                           turbidity   pH   isinlier  \n",
       "time                                                  \n",
       "2020-11-14 20:00:00+00:00        150  7.4 -10.521599  "
      ]
     },
     "execution_count": 11,
     "metadata": {},
     "output_type": "execute_result"
    }
   ],
   "source": [
    "clf = LocalOutlierFactor(n_neighbors=50, metric='euclidean')\n",
    "\n",
    "def lof_prediction(clf, training_data_set, data_set):\n",
    "    \n",
    "    #fit clf with training data set\n",
    "    y_pred = clf.fit_predict(training_data_set)\n",
    "    \n",
    "    #Get the prediction score\n",
    "    y_pred = clf._decision_function(training_data_set)\n",
    "    \n",
    "    # combine training data and prediction result\n",
    "    data_set['isinlier'] = y_pred\n",
    "    \n",
    "    #datascores less than -10  are outliers, we get them \n",
    "    anomalies = data_set.loc[data_set['isinlier']< -10]\n",
    "    data_set\n",
    "    return anomalies\n",
    "\n",
    "df_turbidity_anomalies = lof_prediction(clf, df_turbidity, df)\n",
    "df_turbidity_anomalies"
   ]
  },
  {
   "cell_type": "markdown",
   "metadata": {},
   "source": [
    "### Plot the result of LOF anomaly detection"
   ]
  },
  {
   "cell_type": "code",
   "execution_count": 12,
   "metadata": {},
   "outputs": [
    {
     "data": {
      "image/png": "[encoded data removed]",
      "text/plain": [
       "<Figure size 1440x720 with 1 Axes>"
      ]
     },
     "metadata": {
      "needs_background": "light"
     },
     "output_type": "display_data"
    }
   ],
   "source": [
    "# lets plot the result of LOF anomaly detection\n",
    "def plot_lof_result(dataset, anomalies, title):\n",
    "    if 'isinlier' in dataset.columns:\n",
    "        del dataset['isinlier']\n",
    "        \n",
    "    if 'isinlier' in anomalies.columns:\n",
    "        del anomalies['isinlier']\n",
    "        \n",
    "    f2 = plt.figure(figsize =(20, 10))\n",
    "    plt.plot(dataset['turbidity'], color='green')\n",
    "    plt.plot(anomalies['turbidity'], \"r\", markersize =10)\n",
    "    plt.xlabel(\"time\")\n",
    "    plt.ylabel(\"turbidity\")\n",
    "    plt.title(title)\n",
    "    plt.show()\n",
    "    \n",
    "    \n",
    "plot_lof_result(df, df_turbidity_anomalies , \"Anomalies in the Ewasonyiro Water Monitoring for Turbidity\")\n"
   ]
  },
  {
   "cell_type": "markdown",
   "metadata": {},
   "source": [
    "### Plot the result of LOF anomaly detected points alone"
   ]
  },
  {
   "cell_type": "code",
   "execution_count": 13,
   "metadata": {},
   "outputs": [
    {
     "data": {
      "image/png": "[encoded data removed]",
      "text/plain": [
       "<Figure size 1440x720 with 1 Axes>"
      ]
     },
     "metadata": {
      "needs_background": "light"
     },
     "output_type": "display_data"
    }
   ],
   "source": [
    "# lets plot the result of LOF anomaly detection\n",
    "def plot_lof_result(dataset, anomalies, title):\n",
    "    if 'isinlier' in dataset.columns:\n",
    "        del dataset['isinlier']\n",
    "        \n",
    "    if 'isinlier' in anomalies.columns:\n",
    "        del anomalies['isinlier']\n",
    "        \n",
    "    f2 = plt.figure(figsize =(20, 10))\n",
    "    plt.plot(anomalies['turbidity'], \"r\", markersize =10)\n",
    "    plt.xlabel(\"time\")\n",
    "    plt.ylabel(\"turbidity\")\n",
    "    plt.title(title)\n",
    "    plt.show()\n",
    "    \n",
    "    \n",
    "plot_lof_result(df, df_turbidity_anomalies, \"Anomalies in the Ewasonyiro Water Monitoring for Turbidity\")\n"
   ]
  },
  {
   "cell_type": "code",
   "execution_count": 14,
   "metadata": {},
   "outputs": [
    {
     "name": "stdout",
     "output_type": "stream",
     "text": [
      "Number of Anomalies:1\n"
     ]
    }
   ],
   "source": [
    " print (\"Number of Anomalies:%s\"%(df_turbidity_anomalies.shape[0]))"
   ]
  },
  {
   "cell_type": "markdown",
   "metadata": {},
   "source": [
    "### Save the anomaly detected points as csv file"
   ]
  },
  {
   "cell_type": "code",
   "execution_count": 15,
   "metadata": {},
   "outputs": [],
   "source": [
    "df_turbidity_anomalies.to_csv('ewasonyiro_turbidity_anomalies.csv')"
   ]
  },
  {
   "cell_type": "code",
   "execution_count": null,
   "metadata": {},
   "outputs": [],
   "source": []
  },
  {
   "cell_type": "code",
   "execution_count": null,
   "metadata": {},
   "outputs": [],
   "source": []
  }
 ],
 "metadata": {
  "kernelspec": {
   "display_name": "Python 3",
   "language": "python",
   "name": "python3"
  },
  "language_info": {
   "codemirror_mode": {
    "name": "ipython",
    "version": 3
   },
   "file_extension": ".py",
   "mimetype": "text/x-python",
   "name": "python",
   "nbconvert_exporter": "python",
   "pygments_lexer": "ipython3",
   "version": "3.8.3"
  }
 },
 "nbformat": 4,
 "nbformat_minor": 4
}

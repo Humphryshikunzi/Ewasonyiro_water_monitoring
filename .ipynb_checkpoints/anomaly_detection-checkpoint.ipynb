{
 "cells": [
  {
   "cell_type": "code",
   "execution_count": 5,
   "metadata": {},
   "outputs": [],
   "source": [
    "import pandas as pd\n",
    "import numpy as np\n",
    "import math\n",
    "import time\n",
    "import matplotlib.pyplot as plt\n",
    "from sklearn.base import TransformerMixin\n",
    "from sklearn.pipeline import Pipeline\n",
    "from sklearn.pipeline import make_pipeline\n",
    "from sklearn.preprocessing import StandardScaler\n",
    "from sklearn.preprocessing import MinMaxScaler\n",
    "from sklearn.neighbors import LocalOutlierFactor\n",
    "import matplotlib.pylab as pylab\n",
    "import luminol\n",
    "from luminol import utils , anomaly_detector\n",
    "from luminol.anomaly_detector import AnomalyDetector\n",
    "import tad.anomaly_detect_ts as detts\n"
   ]
  },
  {
   "cell_type": "code",
   "execution_count": 6,
   "metadata": {},
   "outputs": [],
   "source": [
    "#Date Time Parser\n",
    "23 def pd_parser(date ) :\n",
    "24     return pd.datetime.strptime(date , '%Y−%m−%d %H:%M:%S ' )\n",
    "25\n",
    "26 #Date Time Parser\n",
    "27 def pd_parser2 ( d a te ) :\n",
    "28     return pd.datetime.strptime (date , '%Y/%m/%d %H:%M' )\n",
    "29\n",
    "30 #Date Time Parser\n",
    "31 def pd_parser3 ( d a te ) :\n",
    "32     return pd.datetime.strptime (date , '%m/%d/%Y %H:%M' )"
   ]
  },
  {
   "cell_type": "code",
   "execution_count": null,
   "metadata": {},
   "outputs": [],
   "source": [
    "class set_col_as_index(TransformerMixin):\n",
    "    def __init__(self , col ) :\n",
    "        self.col = col\n",
    "    \n",
    "    deftransform (self , X, ∗∗ transform_params) :\n",
    "    X.index = X.loc[ : , self.col].apply(lambda x : pd.to_datetime(x))\n",
    "    return X\n",
    "    \n",
    "    def fit(self , X, y=None , ∗∗ fit_params) :\n",
    "        return self"
   ]
  },
  {
   "cell_type": "code",
   "execution_count": null,
   "metadata": {},
   "outputs": [],
   "source": [
    "#sort data based on the index\n",
    "class sort_time_series(TransformerMixin) :\n",
    "    def transform(self , X, ∗∗ transform_params) :\n",
    "        X = X.sort_inde x( )\n",
    "        return X\n",
    "    \n",
    "    def fit(self , X, y=None , ∗∗ fit_params) :\n",
    "        return self\n",
    "    \n",
    "#A common method which is used tocreate index and transform data the 'TimeStamp ' collomn\n",
    "def process_data(x) :\n",
    "    process_ pipeline = make_pipeline(set_col_as_index('Timestamp') ,\n",
    "    sort_time_series( ))\n",
    "    x = process_pipeline.fit_transform(x)\n",
    "    del x['Timestamp ' ]\n",
    "    return x\n"
   ]
  },
  {
   "cell_type": "code",
   "execution_count": null,
   "metadata": {},
   "outputs": [],
   "source": [
    "def get_temp_data( ):\n",
    "    return pd.read_csv(\"Temp.csv\")\n",
    "\n",
    "#Method get_ammonia_data i store ad water ammonia test data from csv file .\n",
    "def get_ammonia_data( ):\n",
    "    return pd.read_csv(\"Ammonia.csv\")\n",
    "\n",
    "73 #d i s p l a y the g e n e r al i n f o rm a ti o n o f d a t a s e t\n",
    "74 def display_info(df) :\n",
    "75     print(\"Data Range\")\n",
    "76     print(\"Start Date %s \"%(df.head(1) ['Timestamp']))\n",
    "77     print(\"End Date %s \"%(df.tail (1) ['Timestamp']))\n",
    "78     print(\"num_values : %s \"%(df.shape[0]))\n",
    "79\n",
    "80#Plot the orginal data set\n",
    "81def plot_original_data(df, title) :\n",
    "82    f1 = plt.figure(figsize =(20, 10))\n",
    "83    df['Value'].plot( )\n",
    "84    plt.xlabel(\"Timestamp\")\n",
    "85    plt.ylabel(\"Value\")\n",
    "86    plt.title(title)\n",
    "87    plt.show( )\n",
    "88\n",
    "89 #prepare traning dataset\n",
    "90 def prepare_traning_dataset(df):\n",
    "91 #get value of dataset\n",
    "92 X = df['Value'].values\n",
    "93 #Then change the precision of valueto4.\n",
    "94 #X= np.round(X, 4)\n",
    "95 #Reshape data to only one column\n",
    "96 X = X.reshape(−1, 1)\n",
    "97     return X\n",
    "98\n",
    "99 #prepare traning dataset\n",
    "100 d\n",
    "ef reshape_traning_dataset(df):\n",
    "101#get value of data set\n",
    "102 X = d f [ ' Value ' ] . v al u e s\n",
    "#Then change the precision of valueto2.\n",
    "104 X= np.round(X, 2)\n",
    "#Reshape data to only one column\n",
    "X = X.reshape(−1, 1)\n",
    " return X\n",
    "\n",
    "def lof_prediction(clf, training_data_set, data_set):\n",
    "#fitclf with training data set\n",
    " y_pred = clf.fit_predict(training_data_set)\n",
    " #Get the prediction score\n",
    " y_pred = clf._decision_function(training_data_set)"
   ]
  }
 ],
 "metadata": {
  "kernelspec": {
   "display_name": "Python 3",
   "language": "python",
   "name": "python3"
  },
  "language_info": {
   "codemirror_mode": {
    "name": "ipython",
    "version": 3
   },
   "file_extension": ".py",
   "mimetype": "text/x-python",
   "name": "python",
   "nbconvert_exporter": "python",
   "pygments_lexer": "ipython3",
   "version": "3.8.3"
  }
 },
 "nbformat": 4,
 "nbformat_minor": 4
}

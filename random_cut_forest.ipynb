{
 "cells": [
  {
   "cell_type": "code",
   "execution_count": 1,
   "metadata": {},
   "outputs": [],
   "source": [
    "import numpy as np\n",
    "import pandas as pd\n",
    "import matplotlib.pyplot as plt\n",
    "import rrcf\n",
    "import pandas as pd\n",
    "import matplotlib.pyplot as plt\n",
    "import seaborn as sns\n"
   ]
  },
  {
   "cell_type": "code",
   "execution_count": 3,
   "metadata": {},
   "outputs": [
    {
     "data": {
      "text/html": [
       "<div>\n",
       "<style scoped>\n",
       "    .dataframe tbody tr th:only-of-type {\n",
       "        vertical-align: middle;\n",
       "    }\n",
       "\n",
       "    .dataframe tbody tr th {\n",
       "        vertical-align: top;\n",
       "    }\n",
       "\n",
       "    .dataframe thead th {\n",
       "        text-align: right;\n",
       "    }\n",
       "</style>\n",
       "<table border=\"1\" class=\"dataframe\">\n",
       "  <thead>\n",
       "    <tr style=\"text-align: right;\">\n",
       "      <th></th>\n",
       "      <th>Unnamed: 0</th>\n",
       "      <th>time</th>\n",
       "      <th>turbidity</th>\n",
       "      <th>pH</th>\n",
       "    </tr>\n",
       "  </thead>\n",
       "  <tbody>\n",
       "    <tr>\n",
       "      <th>0</th>\n",
       "      <td>0</td>\n",
       "      <td>2020-11-04 12:00:00.00+00:00</td>\n",
       "      <td>21</td>\n",
       "      <td>7.5</td>\n",
       "    </tr>\n",
       "    <tr>\n",
       "      <th>1</th>\n",
       "      <td>1</td>\n",
       "      <td>2020-11-04 14:00:00.00+00:00</td>\n",
       "      <td>20</td>\n",
       "      <td>7.5</td>\n",
       "    </tr>\n",
       "    <tr>\n",
       "      <th>2</th>\n",
       "      <td>2</td>\n",
       "      <td>2020-11-04 16:00:00.00+00:00</td>\n",
       "      <td>18</td>\n",
       "      <td>7.5</td>\n",
       "    </tr>\n",
       "  </tbody>\n",
       "</table>\n",
       "</div>"
      ],
      "text/plain": [
       "   Unnamed: 0                          time  turbidity   pH\n",
       "0           0  2020-11-04 12:00:00.00+00:00         21  7.5\n",
       "1           1  2020-11-04 14:00:00.00+00:00         20  7.5\n",
       "2           2  2020-11-04 16:00:00.00+00:00         18  7.5"
      ]
     },
     "execution_count": 3,
     "metadata": {},
     "output_type": "execute_result"
    }
   ],
   "source": [
    "# Read csv file\n",
    "df = pd.read_csv(\"nyewasco_data.csv\")\n",
    "df.head(3)"
   ]
  },
  {
   "cell_type": "code",
   "execution_count": 4,
   "metadata": {},
   "outputs": [],
   "source": [
    "# Convert dataframe to array\n",
    "turbidity_train= np.array(df['turbidity'])\n"
   ]
  },
  {
   "cell_type": "code",
   "execution_count": 5,
   "metadata": {},
   "outputs": [],
   "source": [
    "# Set tree parameters\n",
    "num_trees = 40\n",
    "shingle_size = 1\n",
    "tree_size = 256\n"
   ]
  },
  {
   "cell_type": "code",
   "execution_count": 7,
   "metadata": {},
   "outputs": [],
   "source": [
    "# Create a forest of empty trees\n",
    "forest = []\n",
    "for _ in range(num_trees):\n",
    "    tree = rrcf.RCTree()\n",
    "    forest.append(tree)\n"
   ]
  },
  {
   "cell_type": "code",
   "execution_count": 10,
   "metadata": {},
   "outputs": [],
   "source": [
    "# Use the \"shingle\" generator to create rolling window\n",
    "points = rrcf.shingle(turbidity_train, size=shingle_size)\n",
    "\n",
    "# Create a dict to store anomaly score of each point\n",
    "avg_codisp = {}"
   ]
  },
  {
   "cell_type": "code",
   "execution_count": 12,
   "metadata": {},
   "outputs": [
    {
     "name": "stdout",
     "output_type": "stream",
     "text": [
      "Wall time: 1.17 s\n"
     ]
    }
   ],
   "source": [
    "%%time\n",
    "# Display prediction result\n",
    "\n",
    "for index, point in enumerate(points):\n",
    "    # For each tree in the forest...\n",
    "    for tree in forest:\n",
    "        # If tree is above permitted size, drop the oldest point\n",
    "        # (FIFO)\n",
    "        if len(tree.leaves) > tree_size:\n",
    "            tree.forget_point(index - tree_size)\n",
    "        # Insert the new point into the tree\n",
    "        tree.insert_point(point, index=index)\n",
    "        # Compute codisp on the new point and take the average among\n",
    "        # all trees\n",
    "        if not index in avg_codisp:\n",
    "            avg_codisp[index] = 0\n",
    "        avg_codisp[index] += tree.codisp(index) / num_trees"
   ]
  },
  {
   "cell_type": "code",
   "execution_count": 13,
   "metadata": {},
   "outputs": [],
   "source": [
    "# Convert score dictionary to data frame.\n",
    "turbidity_result = pd.DataFrame.from_dict(avg_codisp,'index')"
   ]
  },
  {
   "cell_type": "code",
   "execution_count": 16,
   "metadata": {},
   "outputs": [],
   "source": [
    "# Merge score with data.\n",
    "df['Score'] = turbidity_result"
   ]
  },
  {
   "cell_type": "code",
   "execution_count": 19,
   "metadata": {},
   "outputs": [
    {
     "data": {
      "text/html": [
       "<div>\n",
       "<style scoped>\n",
       "    .dataframe tbody tr th:only-of-type {\n",
       "        vertical-align: middle;\n",
       "    }\n",
       "\n",
       "    .dataframe tbody tr th {\n",
       "        vertical-align: top;\n",
       "    }\n",
       "\n",
       "    .dataframe thead th {\n",
       "        text-align: right;\n",
       "    }\n",
       "</style>\n",
       "<table border=\"1\" class=\"dataframe\">\n",
       "  <thead>\n",
       "    <tr style=\"text-align: right;\">\n",
       "      <th></th>\n",
       "      <th>Unnamed: 0</th>\n",
       "      <th>time</th>\n",
       "      <th>turbidity</th>\n",
       "      <th>pH</th>\n",
       "      <th>Score</th>\n",
       "    </tr>\n",
       "  </thead>\n",
       "  <tbody>\n",
       "    <tr>\n",
       "      <th>113</th>\n",
       "      <td>157</td>\n",
       "      <td>2020-11-13 22:00:00.00+00:00</td>\n",
       "      <td>65</td>\n",
       "      <td>7.5</td>\n",
       "      <td>63.685659</td>\n",
       "    </tr>\n",
       "    <tr>\n",
       "      <th>123</th>\n",
       "      <td>170</td>\n",
       "      <td>2020-11-14 18:00:00.00+00:00</td>\n",
       "      <td>84</td>\n",
       "      <td>7.4</td>\n",
       "      <td>50.882591</td>\n",
       "    </tr>\n",
       "    <tr>\n",
       "      <th>124</th>\n",
       "      <td>171</td>\n",
       "      <td>2020-11-14 20:00:00.00+00:00</td>\n",
       "      <td>150</td>\n",
       "      <td>7.4</td>\n",
       "      <td>83.963790</td>\n",
       "    </tr>\n",
       "  </tbody>\n",
       "</table>\n",
       "</div>"
      ],
      "text/plain": [
       "     Unnamed: 0                          time  turbidity   pH      Score\n",
       "113         157  2020-11-13 22:00:00.00+00:00         65  7.5  63.685659\n",
       "123         170  2020-11-14 18:00:00.00+00:00         84  7.4  50.882591\n",
       "124         171  2020-11-14 20:00:00.00+00:00        150  7.4  83.963790"
      ]
     },
     "execution_count": 19,
     "metadata": {},
     "output_type": "execute_result"
    }
   ],
   "source": [
    "#Try different values of threshold to get anomalies.\n",
    "anomalies = df.loc[df['Score']>50] # wa 120, changed to 50\n",
    "anomalies"
   ]
  },
  {
   "cell_type": "code",
   "execution_count": 20,
   "metadata": {},
   "outputs": [
    {
     "data": {
      "text/plain": [
       "3"
      ]
     },
     "execution_count": 20,
     "metadata": {},
     "output_type": "execute_result"
    }
   ],
   "source": [
    "len(anomalies)"
   ]
  },
  {
   "cell_type": "code",
   "execution_count": 26,
   "metadata": {},
   "outputs": [
    {
     "data": {
      "text/plain": [
       "Text(0.5, 1.0, 'Temperature data (red) and anomaly score (blue)')"
      ]
     },
     "execution_count": 26,
     "metadata": {},
     "output_type": "execute_result"
    },
    {
     "data": {
      "image/png": "[encoded data removed]",
      "text/plain": [
       "<Figure size 720x360 with 2 Axes>"
      ]
     },
     "metadata": {
      "needs_background": "light"
     },
     "output_type": "display_data"
    }
   ],
   "source": [
    "for index in range(len(avg_codisp)):\n",
    "    avg_codisp[index]=avg_codisp[index]/50\n",
    "fig, ax1 = plt.subplots(figsize=(10, 5))\n",
    "color = 'tab:red'\n",
    "ax1.set_ylabel('Data', color=color, size=14)\n",
    "ax1.plot(turbidity_train, color=color)\n",
    "ax1.tick_params(axis='y', labelcolor=color, labelsize=12)\n",
    "ax1.set_ylim(0,30)\n",
    "ax2 = ax1.twinx()\n",
    "color = 'tab:blue'\n",
    "ax2.set_ylabel('CoDisp', color=color, size=14)\n",
    "ax2.plot(pd.Series(avg_codisp).sort_index(), color=color)\n",
    "ax2.tick_params(axis='y', labelcolor=color, labelsize=12)\n",
    "ax2.grid('off')\n",
    "ax2.set_ylim(0, 30)\n",
    "plt.title('Turbidity data (red) and anomaly score (blue)', size=14)"
   ]
  },
  {
   "cell_type": "code",
   "execution_count": null,
   "metadata": {},
   "outputs": [],
   "source": []
  }
 ],
 "metadata": {
  "kernelspec": {
   "display_name": "Python 3",
   "language": "python",
   "name": "python3"
  },
  "language_info": {
   "codemirror_mode": {
    "name": "ipython",
    "version": 3
   },
   "file_extension": ".py",
   "mimetype": "text/x-python",
   "name": "python",
   "nbconvert_exporter": "python",
   "pygments_lexer": "ipython3",
   "version": "3.8.3"
  }
 },
 "nbformat": 4,
 "nbformat_minor": 4
}
